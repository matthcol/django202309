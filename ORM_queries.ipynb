{
 "cells": [
  {
   "cell_type": "markdown",
   "id": "c45f9124-ccf0-4524-baf3-435bf2464010",
   "metadata": {},
   "source": [
    "\n",
    "# DB Queries with Django ORM"
   ]
  },
  {
   "cell_type": "code",
   "execution_count": 1,
   "id": "1d3326c1-a2c4-4a0e-b82d-ddad421692a4",
   "metadata": {},
   "outputs": [],
   "source": [
    "# 3 famous data science, scientific libraries\n",
    "import pandas as pd\n",
    "# import matplotlib.pyplot as plt\n",
    "# import numpy as pd\n",
    "\n",
    "# Django libraries\n",
    "from django.db import connection, reset_queries\n",
    "# from django.db.models import Avg, Count, Min, Max, Q, F, Value as V, Exists, ..\n",
    "from django.db.models import Value as V, CharField, TextField, FloatField\n",
    "from django.db.models.functions import Upper, Lower, Substr, \\\n",
    "        Coalesce, Extract, Concat, Round, Ceil, Floor, Cast\n",
    "\n",
    "#python libraries\n",
    "from datetime import date"
   ]
  },
  {
   "cell_type": "markdown",
   "id": "68e71d95-e9fc-4e41-874a-e9d4bf589065",
   "metadata": {},
   "source": [
    "## 1 - Basic CRUD"
   ]
  },
  {
   "cell_type": "markdown",
   "id": "4db07c6a-3e08-4a57-ac05-cf7d3aa70354",
   "metadata": {},
   "source": [
    "### 1.1 - Get all elements and pagination"
   ]
  },
  {
   "cell_type": "code",
   "execution_count": 2,
   "id": "9933f107-fffa-43c1-8002-74658233f48a",
   "metadata": {
    "scrolled": true
   },
   "outputs": [
    {
     "name": "stdout",
     "output_type": "stream",
     "text": [
      "[]\n"
     ]
    },
    {
     "data": {
      "text/plain": [
       "<QuerySet [#5257 - Excuse Me (1915), #6366 - Anton the Terrible (1916), #8351 - The Mysterious Mrs. Musslewhite (1917), #8384 - On the Level (1917), #8642 - The Sunset Trail (1917), #8676 - The Tides of Barnegat (1917), #8981 - The Cruise of the Make-Believes (1918), #9124 - Good Night, Paul (1918), #16251 - Proud Flesh (1925), #19588 - A Woman Against the World (1928), #8079250 - Oppenheimer (2023), #9274 - A Lady's Name (1918), #9403 - Mrs. Leffingwell's Boots (1918), #9475 - A Pair of Silk Stockings (1918), #9492 - A Petticoat Pilot (1918), #9576 - Sauce for the Goose (1918), #9666 - Such a Little Pirate (1918), #9740 - Unclaimed Goods (1918), #9767 - Viviette (1918), #19699 - The Black Watch (1929), '...(remaining elements truncated)...']>"
      ]
     },
     "execution_count": 2,
     "metadata": {},
     "output_type": "execute_result"
    }
   ],
   "source": [
    "reset_queries()\n",
    "queryset = Movie.objects.all()\n",
    "print(connection.queries) # no SQL here, QuerySet object is lazy\n",
    "queryset"
   ]
  },
  {
   "cell_type": "code",
   "execution_count": 3,
   "id": "3c158653-33ff-4b1e-843c-965748e10b7e",
   "metadata": {},
   "outputs": [
    {
     "data": {
      "text/plain": [
       "[{'sql': 'SELECT \"movieapp_movie\".\"id\", \"movieapp_movie\".\"title\", \"movieapp_movie\".\"year\", \"movieapp_movie\".\"duration\", \"movieapp_movie\".\"pg\", \"movieapp_movie\".\"synopsis\", \"movieapp_movie\".\"poster_uri\", \"movieapp_movie\".\"director_id\" FROM \"movieapp_movie\" LIMIT 21',\n",
       "  'time': '0.000'}]"
      ]
     },
     "execution_count": 3,
     "metadata": {},
     "output_type": "execute_result"
    }
   ],
   "source": [
    "connection.queries"
   ]
  },
  {
   "cell_type": "code",
   "execution_count": 4,
   "id": "ac79abfa-69bd-4cec-a537-2bc4f00b28f4",
   "metadata": {},
   "outputs": [
    {
     "data": {
      "text/plain": [
       "<QuerySet [#13592 - Shadows (1922), #13611 - Smilin' Through (1922), #13751 - When Love Comes (1922), #16514 - The Wheel (1925), #21015 - Juno and the Paycock (1930), #21128 - Mary (1931), #13891 - Bright Lights of Broadway (1923), #14205 - Little Old New York (1923), #14264 - Maytime (1923), #14572 - Vanity Fair (1923), #14689 - The Average Woman (1924), #14918 - A Fool's Awakening (1924), #15022 - Janice Meredith (1924), #15249 - The Price of a Party (1924), #16048 - Lovers in Quarantine (1925), #16062 - The Mad Marriage (1925), #16093 - The Marriage Whirl (1925), #16127 - The Mountain Eagle (1926), #16230 - The Pleasure Garden (1925), #8079253 - Oppenheimer (2023), '...(remaining elements truncated)...']>"
      ]
     },
     "execution_count": 4,
     "metadata": {},
     "output_type": "execute_result"
    }
   ],
   "source": [
    "reset_queries()\n",
    "queryset = Movie.objects.all()\n",
    "movie_slice = queryset[50:100]  # new lazy Query Set, pagination\n",
    "movie_slice"
   ]
  },
  {
   "cell_type": "code",
   "execution_count": 5,
   "id": "593e2d02-377d-4b6b-958d-6405d24dfb15",
   "metadata": {},
   "outputs": [
    {
     "data": {
      "text/plain": [
       "[{'sql': 'SELECT \"movieapp_movie\".\"id\", \"movieapp_movie\".\"title\", \"movieapp_movie\".\"year\", \"movieapp_movie\".\"duration\", \"movieapp_movie\".\"pg\", \"movieapp_movie\".\"synopsis\", \"movieapp_movie\".\"poster_uri\", \"movieapp_movie\".\"director_id\" FROM \"movieapp_movie\" LIMIT 21 OFFSET 50',\n",
       "  'time': '0.000'}]"
      ]
     },
     "execution_count": 5,
     "metadata": {},
     "output_type": "execute_result"
    }
   ],
   "source": [
    "connection.queries"
   ]
  },
  {
   "cell_type": "code",
   "execution_count": 6,
   "id": "9110562c-9241-4756-8c22-ee036ffbddb6",
   "metadata": {},
   "outputs": [
    {
     "name": "stdout",
     "output_type": "stream",
     "text": [
      "[{'sql': 'SELECT \"movieapp_movie\".\"id\", \"movieapp_movie\".\"title\", \"movieapp_movie\".\"year\", \"movieapp_movie\".\"duration\", \"movieapp_movie\".\"pg\", \"movieapp_movie\".\"synopsis\", \"movieapp_movie\".\"poster_uri\", \"movieapp_movie\".\"director_id\" FROM \"movieapp_movie\" LIMIT 21 OFFSET 50', 'time': '0.000'}, {'sql': 'SELECT \"movieapp_movie\".\"id\", \"movieapp_movie\".\"title\", \"movieapp_movie\".\"year\", \"movieapp_movie\".\"duration\", \"movieapp_movie\".\"pg\", \"movieapp_movie\".\"synopsis\", \"movieapp_movie\".\"poster_uri\", \"movieapp_movie\".\"director_id\" FROM \"movieapp_movie\"', 'time': '0.016'}]\n",
      "1202 [#5257 - Excuse Me (1915), #6366 - Anton the Terrible (1916)] [#7959026 - The Mule (2018), #8079248 - Yesterday (2019)]\n"
     ]
    }
   ],
   "source": [
    "movies = list(queryset) # a queryset is iterable\n",
    "print(connection.queries)\n",
    "print(len(movies), movies[:2], movies[-2:])"
   ]
  },
  {
   "cell_type": "markdown",
   "id": "98513fea-aa40-46a8-85e3-3fa7689bb52f",
   "metadata": {},
   "source": [
    "### 1.2 - Get One element\n",
    "Only one result: primary key, unique column"
   ]
  },
  {
   "cell_type": "code",
   "execution_count": 7,
   "id": "efe8ef23-ed31-47c8-b328-2a7a938ff9c9",
   "metadata": {},
   "outputs": [
    {
     "data": {
      "text/plain": [
       "#5257 - Excuse Me (1915)"
      ]
     },
     "execution_count": 7,
     "metadata": {},
     "output_type": "execute_result"
    }
   ],
   "source": [
    "m = Movie.objects.get(id=5257)  # pk by column name\n",
    "m"
   ]
  },
  {
   "cell_type": "code",
   "execution_count": 8,
   "id": "919515e7-a06f-4104-b740-09b2bbd40b2b",
   "metadata": {},
   "outputs": [
    {
     "data": {
      "text/plain": [
       "#5257 - Excuse Me (1915)"
      ]
     },
     "execution_count": 8,
     "metadata": {},
     "output_type": "execute_result"
    }
   ],
   "source": [
    "m = Movie.objects.get(pk=5257) # pk without the name of the column\n",
    "m"
   ]
  },
  {
   "cell_type": "code",
   "execution_count": 9,
   "id": "3d5bd13b-1026-4b56-b89b-97924e9a81d8",
   "metadata": {},
   "outputs": [
    {
     "name": "stdout",
     "output_type": "stream",
     "text": [
      "No movie with this id\n"
     ]
    }
   ],
   "source": [
    "try:\n",
    "    Movie.objects.get(pk=0)\n",
    "except Movie.DoesNotExist:\n",
    "    print(\"No movie with this id\")"
   ]
  },
  {
   "cell_type": "markdown",
   "id": "1467066a-2dea-4339-88c4-d5e53478fd47",
   "metadata": {},
   "source": [
    "### 1.3 - Lifecycle"
   ]
  },
  {
   "cell_type": "code",
   "execution_count": 10,
   "id": "312bc08d-2346-4bcd-ab42-8a1ebb61e3ff",
   "metadata": {},
   "outputs": [
    {
     "name": "stdout",
     "output_type": "stream",
     "text": [
      "movie id: None\n",
      "movie id: 8079272\n"
     ]
    }
   ],
   "source": [
    "reset_queries()\n",
    "m = Movie(title=\"Oppenheimer\", year=2023)\n",
    "print(\"movie id:\", m.id) \n",
    "m.save()\n",
    "print(\"movie id:\", m.id)"
   ]
  },
  {
   "cell_type": "code",
   "execution_count": 11,
   "id": "4a4de333-2341-44cf-8d3f-1424b31cec2f",
   "metadata": {},
   "outputs": [
    {
     "data": {
      "text/plain": [
       "[{'sql': 'INSERT INTO \"movieapp_movie\" (\"title\", \"year\", \"duration\", \"pg\", \"synopsis\", \"poster_uri\", \"director_id\") VALUES (\\'Oppenheimer\\', 2023, NULL, NULL, NULL, NULL, NULL) RETURNING \"movieapp_movie\".\"id\"',\n",
       "  'time': '0.000'}]"
      ]
     },
     "execution_count": 11,
     "metadata": {},
     "output_type": "execute_result"
    }
   ],
   "source": [
    "connection.queries"
   ]
  },
  {
   "cell_type": "code",
   "execution_count": 12,
   "id": "948eab86-5d27-4e49-95d9-431db71a0e43",
   "metadata": {},
   "outputs": [
    {
     "data": {
      "text/plain": [
       "(1, {'movieapp.Movie': 1})"
      ]
     },
     "execution_count": 12,
     "metadata": {},
     "output_type": "execute_result"
    }
   ],
   "source": [
    "m.delete()"
   ]
  },
  {
   "cell_type": "code",
   "execution_count": 13,
   "id": "b1bbdc04-4afa-4592-8247-1c1d3b0cf59a",
   "metadata": {},
   "outputs": [
    {
     "data": {
      "text/plain": [
       "[{'sql': 'INSERT INTO \"movieapp_movie\" (\"title\", \"year\", \"duration\", \"pg\", \"synopsis\", \"poster_uri\", \"director_id\") VALUES (\\'Oppenheimer\\', 2023, NULL, NULL, NULL, NULL, NULL) RETURNING \"movieapp_movie\".\"id\"',\n",
       "  'time': '0.000'},\n",
       " {'sql': 'DELETE FROM \"movieapp_movie\" WHERE \"movieapp_movie\".\"id\" IN (8079272)',\n",
       "  'time': '0.000'}]"
      ]
     },
     "execution_count": 13,
     "metadata": {},
     "output_type": "execute_result"
    }
   ],
   "source": [
    "connection.queries"
   ]
  },
  {
   "cell_type": "code",
   "execution_count": 14,
   "id": "5fccda57-1bb7-49df-bbdb-8697d4bb0d58",
   "metadata": {},
   "outputs": [
    {
     "name": "stdout",
     "output_type": "stream",
     "text": [
      "movie id: 8079273\n"
     ]
    },
    {
     "data": {
      "text/plain": [
       "[{'sql': 'INSERT INTO \"movieapp_movie\" (\"title\", \"year\", \"duration\", \"pg\", \"synopsis\", \"poster_uri\", \"director_id\") VALUES (\\'Oppenheimer\\', 2023, 180, \\'R\\', NULL, NULL, NULL) RETURNING \"movieapp_movie\".\"id\"',\n",
       "  'time': '0.000'}]"
      ]
     },
     "execution_count": 14,
     "metadata": {},
     "output_type": "execute_result"
    }
   ],
   "source": [
    "reset_queries()\n",
    "movieOppenheimer = Movie.objects.create(title=\"Oppenheimer\", year=2023, duration=180, pg='R')\n",
    "print(\"movie id:\", movieOppenheimer.id)\n",
    "connection.queries"
   ]
  },
  {
   "cell_type": "code",
   "execution_count": 15,
   "id": "4ad43ead-f0e2-45b5-b7ef-138977f17c67",
   "metadata": {},
   "outputs": [
    {
     "data": {
      "text/plain": [
       "[{'sql': 'UPDATE \"movieapp_movie\" SET \"title\" = \\'Oppenheimer\\', \"year\" = 2023, \"duration\" = 180, \"pg\" = \\'R\\', \"synopsis\" = \\'The story of American scientist, J. Robert Oppenheimer, and his role in the development of the atomic bomb.\\', \"poster_uri\" = NULL, \"director_id\" = NULL WHERE \"movieapp_movie\".\"id\" = 8079273',\n",
       "  'time': '0.000'}]"
      ]
     },
     "execution_count": 15,
     "metadata": {},
     "output_type": "execute_result"
    }
   ],
   "source": [
    "reset_queries()\n",
    "movieOppenheimer.synopsis = \"The story of American scientist, J. Robert Oppenheimer, and his role in the development of the atomic bomb.\"\n",
    "movieOppenheimer.save()\n",
    "connection.queries"
   ]
  },
  {
   "cell_type": "markdown",
   "id": "3cdd37d7-4561-4869-95f0-0f4e89ae88d3",
   "metadata": {},
   "source": [
    "## 2 - ManyToOne CRUD"
   ]
  },
  {
   "cell_type": "code",
   "execution_count": 16,
   "id": "d090aabc-ab92-487d-a810-4e0bc85d4fb5",
   "metadata": {},
   "outputs": [
    {
     "name": "stdout",
     "output_type": "stream",
     "text": [
      "[{'sql': 'SELECT \"movieapp_movie\".\"id\", \"movieapp_movie\".\"title\", \"movieapp_movie\".\"year\", \"movieapp_movie\".\"duration\", \"movieapp_movie\".\"pg\", \"movieapp_movie\".\"synopsis\", \"movieapp_movie\".\"poster_uri\", \"movieapp_movie\".\"director_id\" FROM \"movieapp_movie\" WHERE \"movieapp_movie\".\"id\" = 7959026 LIMIT 21', 'time': '0.000'}]\n"
     ]
    },
    {
     "data": {
      "text/plain": [
       "#7959026 - The Mule (2018)"
      ]
     },
     "execution_count": 16,
     "metadata": {},
     "output_type": "execute_result"
    }
   ],
   "source": [
    "reset_queries()\n",
    "m = Movie.objects.get(pk=7959026)\n",
    "print(connection.queries)\n",
    "m"
   ]
  },
  {
   "cell_type": "code",
   "execution_count": 17,
   "id": "23e5e15f-e82b-4611-8bba-9b6e16e578ca",
   "metadata": {},
   "outputs": [
    {
     "data": {
      "text/plain": [
       "142"
      ]
     },
     "execution_count": 17,
     "metadata": {},
     "output_type": "execute_result"
    }
   ],
   "source": [
    "m.director_id"
   ]
  },
  {
   "cell_type": "code",
   "execution_count": 18,
   "id": "197f69db-07c4-4315-9ed0-36b865784f6a",
   "metadata": {},
   "outputs": [
    {
     "name": "stdout",
     "output_type": "stream",
     "text": [
      "[{'sql': 'SELECT \"person\".\"id\", \"person\".\"name\", \"person\".\"birthdate\" FROM \"person\" WHERE \"person\".\"id\" = 142 LIMIT 21', 'time': '0.000'}]\n"
     ]
    },
    {
     "data": {
      "text/plain": [
       "#142 - Clint Eastwood"
      ]
     },
     "execution_count": 18,
     "metadata": {},
     "output_type": "execute_result"
    }
   ],
   "source": [
    "reset_queries()\n",
    "d = m.director # lazy attribute is filled here (query SQL)\n",
    "print(connection.queries)\n",
    "d"
   ]
  },
  {
   "cell_type": "code",
   "execution_count": 19,
   "id": "2944018f-153c-4b2d-8e0f-c97fabce046e",
   "metadata": {},
   "outputs": [
    {
     "name": "stdout",
     "output_type": "stream",
     "text": [
      "#142 - Clint Eastwood\n"
     ]
    }
   ],
   "source": [
    "print(d)"
   ]
  },
  {
   "cell_type": "code",
   "execution_count": 20,
   "id": "0446873e-9929-4309-a2fa-57c23014038a",
   "metadata": {},
   "outputs": [
    {
     "data": {
      "text/plain": [
       "[#634240 - Christopher Nolan]"
      ]
     },
     "execution_count": 20,
     "metadata": {},
     "output_type": "execute_result"
    }
   ],
   "source": [
    "nolansQuerySet = Person.objects.filter(name = \"Christopher Nolan\")\n",
    "nolans = list(nolansQuerySet)\n",
    "nolans"
   ]
  },
  {
   "cell_type": "code",
   "execution_count": 21,
   "id": "7564be3c-41b4-4a2e-9d62-bd4051659013",
   "metadata": {},
   "outputs": [
    {
     "data": {
      "text/plain": [
       "[{'sql': 'UPDATE \"movieapp_movie\" SET \"title\" = \\'Oppenheimer\\', \"year\" = 2023, \"duration\" = 180, \"pg\" = \\'R\\', \"synopsis\" = \\'The story of American scientist, J. Robert Oppenheimer, and his role in the development of the atomic bomb.\\', \"poster_uri\" = NULL, \"director_id\" = 634240 WHERE \"movieapp_movie\".\"id\" = 8079273',\n",
       "  'time': '0.016'}]"
      ]
     },
     "execution_count": 21,
     "metadata": {},
     "output_type": "execute_result"
    }
   ],
   "source": [
    "reset_queries()\n",
    "nolan = nolans[0]\n",
    "movieOppenheimer.director = nolan # set object relationship\n",
    "movieOppenheimer.save()\n",
    "connection.queries"
   ]
  },
  {
   "cell_type": "code",
   "execution_count": 22,
   "id": "53bd2c7e-8e65-414b-850e-1e5f0d845647",
   "metadata": {},
   "outputs": [
    {
     "data": {
      "text/plain": [
       "[{'sql': 'INSERT INTO \"person\" (\"name\", \"birthdate\") VALUES (\\'Greta Gerwig\\', \\'1983-08-04\\'::date) RETURNING \"person\".\"id\"',\n",
       "  'time': '0.000'},\n",
       " {'sql': 'INSERT INTO \"movieapp_movie\" (\"title\", \"year\", \"duration\", \"pg\", \"synopsis\", \"poster_uri\", \"director_id\") VALUES (\\'Barbie\\', 2023, NULL, NULL, NULL, NULL, 11903880) RETURNING \"movieapp_movie\".\"id\"',\n",
       "  'time': '0.000'}]"
      ]
     },
     "execution_count": 22,
     "metadata": {},
     "output_type": "execute_result"
    }
   ],
   "source": [
    "# create movie BArbie, 2023 by Greta Gerwig Born August 4, 1983\n",
    "reset_queries()\n",
    "greta = Person.objects.create(name=\"Greta Gerwig\", birthdate=date(1983,8,4))\n",
    "movieBarbie = Movie.objects.create(title=\"Barbie\", year=2023, director=greta)\n",
    "connection.queries"
   ]
  },
  {
   "cell_type": "markdown",
   "id": "db2d1db3-47fe-4cbe-9aa0-53c3baae48cb",
   "metadata": {},
   "source": [
    "## 3 - Queries"
   ]
  },
  {
   "cell_type": "markdown",
   "id": "76da80b2-2bdd-4556-8125-1dd7b43fd0fb",
   "metadata": {},
   "source": [
    "### 3.1. Filters (Where)"
   ]
  },
  {
   "cell_type": "code",
   "execution_count": 23,
   "id": "6bd61641-2858-4326-a36f-14507877bca7",
   "metadata": {},
   "outputs": [
    {
     "data": {
      "text/plain": [
       "<QuerySet [#25452 - The Man Who Knew Too Much (1934), #49470 - The Man Who Knew Too Much (1956)]>"
      ]
     },
     "execution_count": 23,
     "metadata": {},
     "output_type": "execute_result"
    }
   ],
   "source": [
    "# exact predicate (=)\n",
    "Movie.objects.filter(title='The Man Who Knew Too Much')"
   ]
  },
  {
   "cell_type": "code",
   "execution_count": 24,
   "id": "b71ffab8-5200-4353-894c-6326ea35619f",
   "metadata": {},
   "outputs": [
    {
     "data": {
      "text/plain": [
       "<QuerySet [#49470 - The Man Who Knew Too Much (1956)]>"
      ]
     },
     "execution_count": 24,
     "metadata": {},
     "output_type": "execute_result"
    }
   ],
   "source": [
    "# 2 predicates AND\n",
    "Movie.objects.filter(title='The Man Who Knew Too Much', year=1956)"
   ]
  },
  {
   "cell_type": "code",
   "execution_count": 25,
   "id": "ae6fee5b-c6ec-4178-8c9b-b54885fb1f15",
   "metadata": {},
   "outputs": [
    {
     "data": {
      "text/plain": [
       "<QuerySet [#25452 - The Man Who Knew Too Much (1934), #49470 - The Man Who Knew Too Much (1956)]>"
      ]
     },
     "execution_count": 25,
     "metadata": {},
     "output_type": "execute_result"
    }
   ],
   "source": [
    "# iexact = exact case insensitive\n",
    "Movie.objects.filter(title__iexact=\"the man who knew too much\")"
   ]
  },
  {
   "cell_type": "code",
   "execution_count": 26,
   "id": "53463dec-1ec2-4b57-b8e4-87aedbd58365",
   "metadata": {},
   "outputs": [
    {
     "data": {
      "text/plain": [
       "<QuerySet [#20142 - The Manxman (1929), #24293 - The Man from Monterey (1933), #25452 - The Man Who Knew Too Much (1934), #25455 - The Man from Utah (1934), #49470 - The Man Who Knew Too Much (1956), #56217 - The Man Who Shot Liberty Valance (1962), #71807 - The Man with the Golden Gun (1974), #73341 - The Man Who Would Be King (1975), #89543 - The Man with One Red Shoe (1985), #243133 - The Man Who Wasn't There (2001)]>"
      ]
     },
     "execution_count": 26,
     "metadata": {},
     "output_type": "execute_result"
    }
   ],
   "source": [
    "# (i)startswith, (i)endswith, (i)contains\n",
    "Movie.objects.filter(title__istartswith=\"the man\")"
   ]
  },
  {
   "cell_type": "code",
   "execution_count": 27,
   "id": "7c20db14-df0a-4c0d-8914-c49c1bdd0996",
   "metadata": {},
   "outputs": [
    {
     "data": {
      "text/plain": [
       "<QuerySet [#25830 - The Star Packer (1934), #49793 - Star in the Dust (1956), #76759 - Star Wars: Episode IV - A New Hope (1977), #80684 - Star Wars: Episode V - The Empire Strikes Back (1980), #86190 - Star Wars: Episode VI - Return of the Jedi (1983), #95405 - Starry is the Night (1988), #2488496 - Star Wars: Episode VII - The Force Awakens (2015), #2527338 - Star Wars: Episode IX - The Rise of Skywalker (2019)]>"
      ]
     },
     "execution_count": 27,
     "metadata": {},
     "output_type": "execute_result"
    }
   ],
   "source": [
    "Movie.objects.filter(title__icontains=\"star\")"
   ]
  },
  {
   "cell_type": "code",
   "execution_count": 28,
   "id": "4efd6f5c-9fa1-4df7-9dca-c25c6a75cf55",
   "metadata": {},
   "outputs": [
    {
     "data": {
      "text/plain": [
       "<QuerySet [#25830 - The Star Packer (1934), #49793 - Star in the Dust (1956), #76759 - Star Wars: Episode IV - A New Hope (1977), #80684 - Star Wars: Episode V - The Empire Strikes Back (1980), #86190 - Star Wars: Episode VI - Return of the Jedi (1983), #2488496 - Star Wars: Episode VII - The Force Awakens (2015), #2527338 - Star Wars: Episode IX - The Rise of Skywalker (2019)]>"
      ]
     },
     "execution_count": 28,
     "metadata": {},
     "output_type": "execute_result"
    }
   ],
   "source": [
    "# (i)regex: regular expression\n",
    "Movie.objects.filter(title__iregex=r\"(^| )star( |$)\")"
   ]
  },
  {
   "cell_type": "code",
   "execution_count": 29,
   "id": "20fb215e-6410-4da0-ab34-48d2ade83356",
   "metadata": {},
   "outputs": [
    {
     "data": {
      "text/plain": [
       "<QuerySet [#8079250 - Oppenheimer (2023), #8079251 - Oppenheimer (2023), #8079253 - Oppenheimer (2023), #8079255 - Oppenheimer (2023), #8079256 - Barbie (2023), #8079258 - Oppenheimer (2023), #8079259 - Barbie (2023), #8079261 - Oppenheimer (2023), #8079262 - Barbie (2023), #8079265 - Barbie (2023), #8079264 - Oppenheimer (2023), #8079268 - Barbie (2023), #8079267 - Oppenheimer (2023), #8079270 - Oppenheimer (2023), #8079271 - Barbie (2023), #8079273 - Oppenheimer (2023), #8079274 - Barbie (2023), #1025100 - Gemini Man (2019), #1206885 - Rambo: Last Blood (2019), #1302006 - The Irishman (2019), '...(remaining elements truncated)...']>"
      ]
     },
     "execution_count": 29,
     "metadata": {},
     "output_type": "execute_result"
    }
   ],
   "source": [
    "# comparison operator: gt >, gte >=, lt <, lte <=\n",
    "Movie.objects.filter(year__gt=2018)"
   ]
  },
  {
   "cell_type": "code",
   "execution_count": 30,
   "id": "6b8ea4ea-f76b-4558-8c09-55a458c5d33b",
   "metadata": {},
   "outputs": [
    {
     "data": {
      "text/plain": [
       "[#80377 - Any Which Way You Can (1980),\n",
       " #80472 - Bronco Billy (1980),\n",
       " #80661 - Dressed to Kill (1980),\n",
       " #80850 - He Knows You're Alone (1980),\n",
       " #82880 - Il pap'occhio (1980),\n",
       " #76580 - Qian zuo guai (1980),\n",
       " #81398 - Raging Bull (1980),\n",
       " #80684 - Star Wars: Episode V - The Empire Strikes Back (1980),\n",
       " #80455 - The Blues Brothers (1980),\n",
       " #80907 - The Hunter (1980),\n",
       " #80031 - Tom Horn (1980),\n",
       " #82085 - Blow Out (1981),\n",
       " #82398 - For Your Eyes Only (1981),\n",
       " #82535 - Hua ji shi dai (1981),\n",
       " #82817 - Nighthawks (1981),\n",
       " #82869 - Outland (1981),\n",
       " #82910 - Piranha II: The Spawning (1981),\n",
       " #82971 - Raiders of the Lost Ark (1981),\n",
       " #83907 - The Evil Dead (1981),\n",
       " #81633 - Time Bandits (1981),\n",
       " #83284 - Victory (1981),\n",
       " #173893 - Hefty's (1983),\n",
       " #86006 - Never Say Never Again (1983),\n",
       " #86034 - Octopussy (1983),\n",
       " #86250 - Scarface (1983),\n",
       " #86190 - Star Wars: Episode VI - Return of the Jedi (1983),\n",
       " #86361 - Staying Alive (1983),\n",
       " #86383 - Sudden Impact (1983),\n",
       " #86491 - Twilight Zone: The Movie (1983),\n",
       " #86927 - Bachelor Party (1984),\n",
       " #86979 - Blood Simple (1984),\n",
       " #86984 - Body Double (1984),\n",
       " #86998 - Breakin' (1984),\n",
       " #87062 - City Heat (1984),\n",
       " #87078 - Conan the Destroyer (1984),\n",
       " #87363 - Gremlins (1984),\n",
       " #92264 - Heroes Shed No Tears (1984),\n",
       " #87469 - Indiana Jones and the Temple of Doom (1984),\n",
       " #87727 - Missing in Action (1984),\n",
       " #87739 - Monaco Forever (1984),\n",
       " #88001 - Rhinestone (1984),\n",
       " #88161 - Splash (1984),\n",
       " #84750 - Sword of the Valiant: The Legend of Sir Gawain and the Green Knight (1984),\n",
       " #88247 - The Terminator (1984),\n",
       " #88272 - Tightrope (1984),\n",
       " #88680 - After Hours (1985),\n",
       " #90264 - A View to a Kill (1985),\n",
       " #88944 - Commando (1985),\n",
       " #88967 - Crimewave (1985),\n",
       " #185446 - Gu lian hua (1985),\n",
       " #89469 - Legend (1985),\n",
       " #89767 - Pale Rider (1985),\n",
       " #89880 - Rambo: First Blood Part II (1985),\n",
       " #89893 - Red Sonja (1985),\n",
       " #89927 - Rocky IV (1985),\n",
       " #89482 - Run Tiger, Run (1985),\n",
       " #1813593 - Sam Raimi Early Shorts (1985),\n",
       " #90056 - Spies Like Us (1985),\n",
       " #88939 - The Color Purple (1985),\n",
       " #89543 - The Man with One Red Shoe (1985),\n",
       " #90093 - Thou Shalt Not Kill... Except (1985),\n",
       " #90274 - Volunteers (1985),\n",
       " #90329 - Witness (1985),\n",
       " #88421 - Xiao jiang (1985),\n",
       " #92263 - A Better Tomorrow (1986),\n",
       " #90605 - Aliens (1986),\n",
       " #7763324 - Amazing Stories (1986),\n",
       " #90859 - Cobra (1986),\n",
       " #91019 - Every Time We Say Goodbye (1986),\n",
       " #91187 - Heartbreak Ridge (1986),\n",
       " #91203 - Highlander (1986),\n",
       " #89695 - No Retreat, No Surrender (1986),\n",
       " #91653 - Nothing in Common (1986),\n",
       " #91828 - Raw Deal (1986),\n",
       " #90557 - 'Round Midnight (1986),\n",
       " #91993 - SpaceCamp (1986),\n",
       " #90863 - The Color of Money (1986),\n",
       " #91541 - The Money Pit (1986),\n",
       " #91557 - The Mosquito Coast (1986),\n",
       " #91605 - The Name of the Rose (1986),\n",
       " #92226 - Wise Guys (1986),\n",
       " #94357 - A Better Tomorrow II (1987),\n",
       " #92610 - Bad Taste (1987),\n",
       " #92925 - Dragnet (1987),\n",
       " #92965 - Empire of the Sun (1987),\n",
       " #92991 - Evil Dead II (1987),\n",
       " #89270 - Heng cai san qian wan (1987),\n",
       " #359715 - My Best Friend's Birthday (1987),\n",
       " #93692 - Over the Top (1987),\n",
       " #93773 - Predator (1987),\n",
       " #93822 - Raising Arizona (1987),\n",
       " #93898 - Russkies (1987),\n",
       " #94008 - Someone to Watch Over Me (1987),\n",
       " #93428 - The Living Daylights (1987),\n",
       " #93894 - The Running Man (1987),\n",
       " #94226 - The Untouchables (1987),\n",
       " #94737 - Big (1988),\n",
       " #94747 - Bird (1988),\n",
       " #94750 - Black Eagle (1988),\n",
       " #92675 - Bloodsport (1988),\n",
       " #95174 - Frantic (1988),\n",
       " #88269 - I Love Maria (1988),\n",
       " #95583 - Maniac Cop (1988),\n",
       " #95613 - Memories of Me (1988),\n",
       " #95927 - Punchline (1988),\n",
       " #95956 - Rambo III (1988),\n",
       " #95963 - Red Heat (1988),\n",
       " #95405 - Starry is the Night (1988),\n",
       " #94963 - The Dead Pool (1988),\n",
       " #95497 - The Last Temptation of Christ (1988),\n",
       " #95897 - The Presidio (1988),\n",
       " #96320 - Twins (1988),\n",
       " #96463 - Working Girl (1988),\n",
       " #96794 - Always (1989),\n",
       " #96933 - Black Rain (1989),\n",
       " #97027 - Casualties of War (1989),\n",
       " #97138 - Cyborg (1989),\n",
       " #97328 - Family Business (1989),\n",
       " #97576 - Indiana Jones and the Last Crusade (1989),\n",
       " #95379 - Intruder (1989),\n",
       " #94351 - Just Heroes (1989),\n",
       " #97659 - Kickboxer (1989),\n",
       " #97742 - Licence to Kill (1989),\n",
       " #97770 - Lock Up (1989),\n",
       " #97858 - Meet the Feebles (1989),\n",
       " #97965 - New York Stories (1989),\n",
       " #98067 - Parenthood (1989),\n",
       " #98097 - Pink Cadillac (1989),\n",
       " #98439 - Tango & Cash (1989),\n",
       " #96754 - The Abyss (1989),\n",
       " #96734 - The 'Burbs (1989),\n",
       " #101670 - The House on Tombstone Hill (1989),\n",
       " #97202 - The Killer (1989),\n",
       " #98536 - Turner & Hooch (1989),\n",
       " #1959602 - Vegetables (1989)]"
      ]
     },
     "execution_count": 30,
     "metadata": {},
     "output_type": "execute_result"
    }
   ],
   "source": [
    "# range: between\n",
    "movies = list(Movie.objects\n",
    "              .exclude(year=1982)\n",
    "              .filter(year__range=(1980,1989))\n",
    "              .order_by(\"year\", \"title\")\n",
    "             )\n",
    "movies"
   ]
  },
  {
   "cell_type": "code",
   "execution_count": 31,
   "id": "afede5aa-5dfc-4a37-a074-5b9865bf229f",
   "metadata": {},
   "outputs": [
    {
     "data": {
      "text/plain": [
       "<QuerySet [#8079250 - Oppenheimer (2023), #13444 - Number 13 (1922), #8079256 - Barbie (2023), #8079259 - Barbie (2023), #8079262 - Barbie (2023), #8079265 - Barbie (2023), #8079268 - Barbie (2023), #8079271 - Barbie (2023), #8079274 - Barbie (2023), #77667 - Ha luo, ye gui ren (1978), #173893 - Hefty's (1983), #185446 - Gu lian hua (1985), #4824394 - Terminator Genisys: The YouTube Chronicles (2015), #6344712 - The Square Root (1969)]>"
      ]
     },
     "execution_count": 31,
     "metadata": {},
     "output_type": "execute_result"
    }
   ],
   "source": [
    "Movie.objects.filter(duration__isnull=True)"
   ]
  },
  {
   "cell_type": "code",
   "execution_count": 32,
   "id": "a7e4317b-0bb7-44da-a744-8396acdef1d4",
   "metadata": {},
   "outputs": [
    {
     "data": {
      "text/plain": [
       "<QuerySet [#125 - Sean Connery, #142 - Clint Eastwood, #432 - Gene Hackman, #537 - Steve McQueen, #728 - Mario Adorf, #1262 - Ben Gazzara, #1321 - Richard Harris, #1335 - Tippi Hedren, #1687 - Gena Rowlands, #1703 - Maximilian Schell, #1792 - Rod Taylor, #1822 - Robert Wagner, #3679 - Kate Reid, #4877 - Roy Edward Disney, #5162 - Robert Loggia, #5196 - Paul Mazursky, #43484 - Jack Axelrod, #53364 - Chris Barber, #58972 - Dominic Barto, #60789 - Charles Bateman, '...(remaining elements truncated)...']>"
      ]
     },
     "execution_count": 32,
     "metadata": {},
     "output_type": "execute_result"
    }
   ],
   "source": [
    "date1 = date(1930,1,1)\n",
    "date2 = date(1930,12,31)\n",
    "Person.objects.filter(birthdate__range=(date1,date2))"
   ]
  },
  {
   "cell_type": "code",
   "execution_count": 33,
   "id": "5b904a4f-cc55-4f16-a78c-0e005bc666a9",
   "metadata": {},
   "outputs": [
    {
     "data": {
      "text/plain": [
       "<QuerySet [#125 - Sean Connery, #142 - Clint Eastwood, #432 - Gene Hackman, #537 - Steve McQueen, #728 - Mario Adorf, #1262 - Ben Gazzara, #1321 - Richard Harris, #1335 - Tippi Hedren, #1687 - Gena Rowlands, #1703 - Maximilian Schell, #1792 - Rod Taylor, #1822 - Robert Wagner, #3679 - Kate Reid, #4877 - Roy Edward Disney, #5162 - Robert Loggia, #5196 - Paul Mazursky, #43484 - Jack Axelrod, #53364 - Chris Barber, #58972 - Dominic Barto, #60789 - Charles Bateman, '...(remaining elements truncated)...']>"
      ]
     },
     "execution_count": 33,
     "metadata": {},
     "output_type": "execute_result"
    }
   ],
   "source": [
    "reset_queries()\n",
    "Person.objects.filter(birthdate__year=1930)"
   ]
  },
  {
   "cell_type": "code",
   "execution_count": 34,
   "id": "5c7ff8b9-fbc5-4108-98b1-143fadfd633f",
   "metadata": {},
   "outputs": [
    {
     "data": {
      "text/plain": [
       "[{'sql': 'SELECT \"person\".\"id\", \"person\".\"name\", \"person\".\"birthdate\" FROM \"person\" WHERE \"person\".\"birthdate\" BETWEEN \\'1930-01-01\\'::date AND \\'1930-12-31\\'::date LIMIT 21',\n",
       "  'time': '0.000'}]"
      ]
     },
     "execution_count": 34,
     "metadata": {},
     "output_type": "execute_result"
    }
   ],
   "source": [
    "connection.queries"
   ]
  },
  {
   "cell_type": "code",
   "execution_count": 35,
   "id": "70d47b9a-e8da-4574-a41b-7a7897b51803",
   "metadata": {},
   "outputs": [
    {
     "data": {
      "text/plain": [
       "<QuerySet [#125 - Sean Connery, #142 - Clint Eastwood, #432 - Gene Hackman, #537 - Steve McQueen, #728 - Mario Adorf, #1262 - Ben Gazzara, #1321 - Richard Harris, #1335 - Tippi Hedren, #1687 - Gena Rowlands, #1703 - Maximilian Schell, #1792 - Rod Taylor, #1822 - Robert Wagner, #3679 - Kate Reid, #4877 - Roy Edward Disney, #5162 - Robert Loggia, #5196 - Paul Mazursky, #43484 - Jack Axelrod, #53364 - Chris Barber, #58972 - Dominic Barto, #60789 - Charles Bateman, '...(remaining elements truncated)...']>"
      ]
     },
     "execution_count": 35,
     "metadata": {},
     "output_type": "execute_result"
    }
   ],
   "source": [
    "reset_queries()\n",
    "Person.objects.annotate(year=Extract('birthdate','year')).filter(year=1930)"
   ]
  },
  {
   "cell_type": "code",
   "execution_count": 36,
   "id": "efd11df0-fffc-4c5c-b973-c2e0c296b2ed",
   "metadata": {},
   "outputs": [
    {
     "data": {
      "text/plain": [
       "[{'sql': 'SELECT \"person\".\"id\", \"person\".\"name\", \"person\".\"birthdate\", EXTRACT(YEAR FROM \"person\".\"birthdate\") AS \"year\" FROM \"person\" WHERE EXTRACT(YEAR FROM \"person\".\"birthdate\") = 1930 LIMIT 21',\n",
       "  'time': '0.000'}]"
      ]
     },
     "execution_count": 36,
     "metadata": {},
     "output_type": "execute_result"
    }
   ],
   "source": [
    "connection.queries"
   ]
  },
  {
   "cell_type": "markdown",
   "id": "1209eaee-917a-4675-ab17-2e7d75c800a3",
   "metadata": {},
   "source": [
    "### 3.2 - Projections"
   ]
  },
  {
   "cell_type": "code",
   "execution_count": 37,
   "id": "c658fce9-daac-4b54-9fcf-8c01ed840a6d",
   "metadata": {},
   "outputs": [
    {
     "data": {
      "text/plain": [
       "<QuerySet [{'year': 1915}, {'year': 1916}, {'year': 1917}, {'year': 1917}, {'year': 1917}, {'year': 1917}, {'year': 1918}, {'year': 1918}, {'year': 1925}, {'year': 1928}, {'year': 2023}, {'year': 1918}, {'year': 1918}, {'year': 1918}, {'year': 1918}, {'year': 1918}, {'year': 1918}, {'year': 1918}, {'year': 1918}, {'year': 1929}, '...(remaining elements truncated)...']>"
      ]
     },
     "execution_count": 37,
     "metadata": {},
     "output_type": "execute_result"
    }
   ],
   "source": [
    "Movie.objects.values('year')"
   ]
  },
  {
   "cell_type": "code",
   "execution_count": 38,
   "id": "4af48e39-83e7-4e7e-8974-186e48c334d6",
   "metadata": {},
   "outputs": [
    {
     "data": {
      "text/plain": [
       "<QuerySet [{'year': 1934}, {'year': 1956}, {'year': 1977}, {'year': 1980}, {'year': 1983}, {'year': 1988}, {'year': 2015}, {'year': 2019}]>"
      ]
     },
     "execution_count": 38,
     "metadata": {},
     "output_type": "execute_result"
    }
   ],
   "source": [
    "Movie.objects.filter(title__icontains='star').values('year')"
   ]
  },
  {
   "cell_type": "code",
   "execution_count": 39,
   "id": "bf4d3bfc-e5c3-47b3-bc2d-0f07a39028af",
   "metadata": {},
   "outputs": [
    {
     "data": {
      "text/plain": [
       "<QuerySet [{'title': 'The Star Packer', 'year': 1934}, {'title': 'Star in the Dust', 'year': 1956}, {'title': 'Star Wars: Episode IV - A New Hope', 'year': 1977}, {'title': 'Star Wars: Episode V - The Empire Strikes Back', 'year': 1980}, {'title': 'Star Wars: Episode VI - Return of the Jedi', 'year': 1983}, {'title': 'Starry is the Night', 'year': 1988}, {'title': 'Star Wars: Episode VII - The Force Awakens', 'year': 2015}, {'title': 'Star Wars: Episode IX - The Rise of Skywalker', 'year': 2019}]>"
      ]
     },
     "execution_count": 39,
     "metadata": {},
     "output_type": "execute_result"
    }
   ],
   "source": [
    "Movie.objects.filter(title__icontains='star').values('title','year')"
   ]
  },
  {
   "cell_type": "code",
   "execution_count": 40,
   "id": "4b40a78e-25d5-40c5-b5a4-83cdbb819a21",
   "metadata": {},
   "outputs": [
    {
     "data": {
      "text/plain": [
       "107"
      ]
     },
     "execution_count": 40,
     "metadata": {},
     "output_type": "execute_result"
    }
   ],
   "source": [
    "# distinct\n",
    "years = list(Movie.objects.values('year').distinct())\n",
    "len(years)"
   ]
  },
  {
   "cell_type": "code",
   "execution_count": 41,
   "id": "eb562014-a2c9-4e50-8de8-f68c2dfd6bd6",
   "metadata": {},
   "outputs": [
    {
     "data": {
      "text/plain": [
       "<QuerySet [{'name': 'Gary the Dog', 'year': 2012}, {'name': 'Temirlan Blaev', 'year': 2007}, {'name': 'Erin Kellyman', 'year': 1998}, {'name': 'Ross Beadman', 'year': 1998}, {'name': 'Alex Knoll', 'year': 1994}, {'name': 'Chelsea Mather', 'year': 1994}, {'name': 'Keira Wingate', 'year': 1994}, {'name': 'Jett Lucas', 'year': 1993}, {'name': \"Helena Collins O'Connor\", 'year': 1992}, {'name': 'Chris Adams', 'year': 1990}, {'name': 'Jennifer Lawrence', 'year': 1990}, {'name': 'Keisha Castle-Hughes', 'year': 1990}, {'name': 'Sam Wilkinson', 'year': 1990}, {'name': 'Dalton Abbott', 'year': 1989}, {'name': 'Jake Lloyd', 'year': 1989}, {'name': 'James Henri-Thomas', 'year': 1989}, {'name': 'Samantha Colley', 'year': 1989}, {'name': 'Seth Adkins', 'year': 1989}, {'name': 'Bobby Edner', 'year': 1988}, {'name': 'Chelsea Hamill', 'year': 1988}, '...(remaining elements truncated)...']>"
      ]
     },
     "execution_count": 41,
     "metadata": {},
     "output_type": "execute_result"
    }
   ],
   "source": [
    "reset_queries()\n",
    "q = Person.objects \\\n",
    "        .filter(birthdate__isnull=False) \\\n",
    "        .annotate(year=Extract('birthdate', 'year')) \\\n",
    "        .values('name','year') \\\n",
    "        .order_by('-year','name')\n",
    "q"
   ]
  },
  {
   "cell_type": "code",
   "execution_count": 42,
   "id": "8b6391d7-a829-4edb-9033-7e8dcfb494f9",
   "metadata": {},
   "outputs": [
    {
     "data": {
      "text/plain": [
       "[{'sql': 'SELECT \"person\".\"name\", EXTRACT(YEAR FROM \"person\".\"birthdate\") AS \"year\" FROM \"person\" WHERE \"person\".\"birthdate\" IS NOT NULL ORDER BY 2 DESC, \"person\".\"name\" ASC LIMIT 21',\n",
       "  'time': '0.016'}]"
      ]
     },
     "execution_count": 42,
     "metadata": {},
     "output_type": "execute_result"
    }
   ],
   "source": [
    "connection.queries"
   ]
  },
  {
   "cell_type": "markdown",
   "id": "2b724037-6829-4b24-9bd7-0ac05f0c5d9e",
   "metadata": {},
   "source": [
    "### 3.3 - Special functions Q, V, F\n",
    "- **Q** = wrap a condition ; usefull with Or, Xor combination\n",
    "- **F** = use value of a field ; usefull with comparison/operators between 2 columns\n",
    "- **Value as V** = wrap a value for disambiguation purpose with column name"
   ]
  },
  {
   "cell_type": "code",
   "execution_count": 43,
   "id": "b20f3556-0729-4a03-8ab3-9615e93a9d77",
   "metadata": {},
   "outputs": [
    {
     "data": {
      "text/plain": [
       "<QuerySet [{'title': 'Oppenheimer', 'duration2': 0}, {'title': 'Oppenheimer', 'duration2': 180}, {'title': 'Oppenheimer', 'duration2': 180}, {'title': 'Oppenheimer', 'duration2': 180}, {'title': 'Barbie', 'duration2': 0}, {'title': 'Oppenheimer', 'duration2': 180}, {'title': 'Barbie', 'duration2': 0}, {'title': 'Oppenheimer', 'duration2': 180}, {'title': 'Barbie', 'duration2': 0}, {'title': 'Barbie', 'duration2': 0}, {'title': 'Oppenheimer', 'duration2': 180}, {'title': 'Barbie', 'duration2': 0}, {'title': 'Oppenheimer', 'duration2': 180}, {'title': 'Oppenheimer', 'duration2': 180}, {'title': 'Barbie', 'duration2': 0}, {'title': 'Oppenheimer', 'duration2': 180}, {'title': 'Barbie', 'duration2': 0}]>"
      ]
     },
     "execution_count": 43,
     "metadata": {},
     "output_type": "execute_result"
    }
   ],
   "source": [
    "# .filter(duration__isnull=True) \\\n",
    "q = Movie.objects \\\n",
    "    .filter(year=2023) \\\n",
    "    .annotate(duration2=Coalesce('duration', 0)) \\\n",
    "    .values('title', 'duration2')\n",
    "q"
   ]
  },
  {
   "cell_type": "code",
   "execution_count": 44,
   "id": "79f9b31a-3c05-4358-ae3b-ab8426ed1008",
   "metadata": {},
   "outputs": [
    {
     "data": {
      "text/plain": [
       "<QuerySet [{'long_title': 'Sword of the Valiant: The Legend of Sir Gawain and the Green Knight1984'}, {'long_title': 'Bachelor Party1984'}, {'long_title': 'Blood Simple1984'}, {'long_title': 'Body Double1984'}, {'long_title': \"Breakin'1984\"}, {'long_title': 'City Heat1984'}, {'long_title': 'Conan the Destroyer1984'}, {'long_title': 'Gremlins1984'}, {'long_title': 'Indiana Jones and the Temple of Doom1984'}, {'long_title': 'Missing in Action1984'}, {'long_title': 'Monaco Forever1984'}, {'long_title': 'Rhinestone1984'}, {'long_title': 'Splash1984'}, {'long_title': 'The Terminator1984'}, {'long_title': 'Tightrope1984'}, {'long_title': 'Heroes Shed No Tears1984'}]>"
      ]
     },
     "execution_count": 44,
     "metadata": {},
     "output_type": "execute_result"
    }
   ],
   "source": [
    "Movie.objects \\\n",
    "    .filter(year=1984) \\\n",
    "    .annotate(long_title=Concat('title', Cast('year', CharField()))) \\\n",
    "    .values('long_title')"
   ]
  },
  {
   "cell_type": "code",
   "execution_count": 45,
   "id": "1a85d316-b9f0-4d62-be11-462e30a20465",
   "metadata": {},
   "outputs": [
    {
     "name": "stdout",
     "output_type": "stream",
     "text": [
      "Sword of the Valiant: The Legend of Sir Gawain and the Green Knight (1984)\n",
      "Bachelor Party (1984)\n",
      "Blood Simple (1984)\n",
      "Body Double (1984)\n",
      "Breakin' (1984)\n",
      "City Heat (1984)\n",
      "Conan the Destroyer (1984)\n",
      "Gremlins (1984)\n",
      "Indiana Jones and the Temple of Doom (1984)\n",
      "Missing in Action (1984)\n",
      "Monaco Forever (1984)\n",
      "Rhinestone (1984)\n",
      "Splash (1984)\n",
      "The Terminator (1984)\n",
      "Tightrope (1984)\n",
      "Heroes Shed No Tears (1984)\n"
     ]
    }
   ],
   "source": [
    "q = Movie.objects \\\n",
    "    .filter(year=1984) \\\n",
    "    .annotate(long_title=Concat(\n",
    "            'title', \n",
    "            V(' ('), \n",
    "            Cast('year', CharField()), \n",
    "            V(')'\n",
    "        ))) \\\n",
    "    .values('title', 'year', 'long_title')\n",
    "res = list(q)\n",
    "for m in res:\n",
    "    print(m['long_title'])"
   ]
  },
  {
   "cell_type": "code",
   "execution_count": 46,
   "id": "c9aaf930-5685-4396-8101-dd95190d44f3",
   "metadata": {},
   "outputs": [
    {
     "data": {
      "text/html": [
       "<div>\n",
       "<style scoped>\n",
       "    .dataframe tbody tr th:only-of-type {\n",
       "        vertical-align: middle;\n",
       "    }\n",
       "\n",
       "    .dataframe tbody tr th {\n",
       "        vertical-align: top;\n",
       "    }\n",
       "\n",
       "    .dataframe thead th {\n",
       "        text-align: right;\n",
       "    }\n",
       "</style>\n",
       "<table border=\"1\" class=\"dataframe\">\n",
       "  <thead>\n",
       "    <tr style=\"text-align: right;\">\n",
       "      <th></th>\n",
       "      <th>title</th>\n",
       "      <th>year</th>\n",
       "      <th>long_title</th>\n",
       "    </tr>\n",
       "  </thead>\n",
       "  <tbody>\n",
       "    <tr>\n",
       "      <th>0</th>\n",
       "      <td>Sword of the Valiant: The Legend of Sir Gawain...</td>\n",
       "      <td>1984</td>\n",
       "      <td>Sword of the Valiant: The Legend of Sir Gawain...</td>\n",
       "    </tr>\n",
       "    <tr>\n",
       "      <th>1</th>\n",
       "      <td>Bachelor Party</td>\n",
       "      <td>1984</td>\n",
       "      <td>Bachelor Party (1984)</td>\n",
       "    </tr>\n",
       "    <tr>\n",
       "      <th>2</th>\n",
       "      <td>Blood Simple</td>\n",
       "      <td>1984</td>\n",
       "      <td>Blood Simple (1984)</td>\n",
       "    </tr>\n",
       "    <tr>\n",
       "      <th>3</th>\n",
       "      <td>Body Double</td>\n",
       "      <td>1984</td>\n",
       "      <td>Body Double (1984)</td>\n",
       "    </tr>\n",
       "    <tr>\n",
       "      <th>4</th>\n",
       "      <td>Breakin'</td>\n",
       "      <td>1984</td>\n",
       "      <td>Breakin' (1984)</td>\n",
       "    </tr>\n",
       "    <tr>\n",
       "      <th>5</th>\n",
       "      <td>City Heat</td>\n",
       "      <td>1984</td>\n",
       "      <td>City Heat (1984)</td>\n",
       "    </tr>\n",
       "    <tr>\n",
       "      <th>6</th>\n",
       "      <td>Conan the Destroyer</td>\n",
       "      <td>1984</td>\n",
       "      <td>Conan the Destroyer (1984)</td>\n",
       "    </tr>\n",
       "    <tr>\n",
       "      <th>7</th>\n",
       "      <td>Gremlins</td>\n",
       "      <td>1984</td>\n",
       "      <td>Gremlins (1984)</td>\n",
       "    </tr>\n",
       "    <tr>\n",
       "      <th>8</th>\n",
       "      <td>Indiana Jones and the Temple of Doom</td>\n",
       "      <td>1984</td>\n",
       "      <td>Indiana Jones and the Temple of Doom (1984)</td>\n",
       "    </tr>\n",
       "    <tr>\n",
       "      <th>9</th>\n",
       "      <td>Missing in Action</td>\n",
       "      <td>1984</td>\n",
       "      <td>Missing in Action (1984)</td>\n",
       "    </tr>\n",
       "    <tr>\n",
       "      <th>10</th>\n",
       "      <td>Monaco Forever</td>\n",
       "      <td>1984</td>\n",
       "      <td>Monaco Forever (1984)</td>\n",
       "    </tr>\n",
       "    <tr>\n",
       "      <th>11</th>\n",
       "      <td>Rhinestone</td>\n",
       "      <td>1984</td>\n",
       "      <td>Rhinestone (1984)</td>\n",
       "    </tr>\n",
       "    <tr>\n",
       "      <th>12</th>\n",
       "      <td>Splash</td>\n",
       "      <td>1984</td>\n",
       "      <td>Splash (1984)</td>\n",
       "    </tr>\n",
       "    <tr>\n",
       "      <th>13</th>\n",
       "      <td>The Terminator</td>\n",
       "      <td>1984</td>\n",
       "      <td>The Terminator (1984)</td>\n",
       "    </tr>\n",
       "    <tr>\n",
       "      <th>14</th>\n",
       "      <td>Tightrope</td>\n",
       "      <td>1984</td>\n",
       "      <td>Tightrope (1984)</td>\n",
       "    </tr>\n",
       "    <tr>\n",
       "      <th>15</th>\n",
       "      <td>Heroes Shed No Tears</td>\n",
       "      <td>1984</td>\n",
       "      <td>Heroes Shed No Tears (1984)</td>\n",
       "    </tr>\n",
       "  </tbody>\n",
       "</table>\n",
       "</div>"
      ],
      "text/plain": [
       "                                                title  year  \\\n",
       "0   Sword of the Valiant: The Legend of Sir Gawain...  1984   \n",
       "1                                      Bachelor Party  1984   \n",
       "2                                        Blood Simple  1984   \n",
       "3                                         Body Double  1984   \n",
       "4                                            Breakin'  1984   \n",
       "5                                           City Heat  1984   \n",
       "6                                 Conan the Destroyer  1984   \n",
       "7                                            Gremlins  1984   \n",
       "8                Indiana Jones and the Temple of Doom  1984   \n",
       "9                                   Missing in Action  1984   \n",
       "10                                     Monaco Forever  1984   \n",
       "11                                         Rhinestone  1984   \n",
       "12                                             Splash  1984   \n",
       "13                                     The Terminator  1984   \n",
       "14                                          Tightrope  1984   \n",
       "15                               Heroes Shed No Tears  1984   \n",
       "\n",
       "                                           long_title  \n",
       "0   Sword of the Valiant: The Legend of Sir Gawain...  \n",
       "1                               Bachelor Party (1984)  \n",
       "2                                 Blood Simple (1984)  \n",
       "3                                  Body Double (1984)  \n",
       "4                                     Breakin' (1984)  \n",
       "5                                    City Heat (1984)  \n",
       "6                          Conan the Destroyer (1984)  \n",
       "7                                     Gremlins (1984)  \n",
       "8         Indiana Jones and the Temple of Doom (1984)  \n",
       "9                            Missing in Action (1984)  \n",
       "10                              Monaco Forever (1984)  \n",
       "11                                  Rhinestone (1984)  \n",
       "12                                      Splash (1984)  \n",
       "13                              The Terminator (1984)  \n",
       "14                                   Tightrope (1984)  \n",
       "15                        Heroes Shed No Tears (1984)  "
      ]
     },
     "execution_count": 46,
     "metadata": {},
     "output_type": "execute_result"
    }
   ],
   "source": [
    "df = pd.DataFrame(res)\n",
    "df"
   ]
  },
  {
   "cell_type": "code",
   "execution_count": 47,
   "id": "689ddf10-07c6-4be3-a925-c90f93743ed0",
   "metadata": {},
   "outputs": [
    {
     "data": {
      "text/plain": [
       "<QuerySet [#88247 - The Terminator (1984)]>"
      ]
     },
     "execution_count": 47,
     "metadata": {},
     "output_type": "execute_result"
    }
   ],
   "source": [
    "# AND with conditions\n",
    "Movie.objects.filter(year=1984, title__icontains='terminator')"
   ]
  },
  {
   "cell_type": "code",
   "execution_count": 48,
   "id": "a674ee4c-97f9-44f8-8a04-fd45ee2f0689",
   "metadata": {},
   "outputs": [
    {
     "name": "stdout",
     "output_type": "stream",
     "text": [
      "#84750 - Sword of the Valiant: The Legend of Sir Gawain and the Green Knight (1984)\n",
      "#86927 - Bachelor Party (1984)\n",
      "#86979 - Blood Simple (1984)\n",
      "#86984 - Body Double (1984)\n",
      "#86998 - Breakin' (1984)\n",
      "#87062 - City Heat (1984)\n",
      "#87078 - Conan the Destroyer (1984)\n",
      "#87363 - Gremlins (1984)\n",
      "#87469 - Indiana Jones and the Temple of Doom (1984)\n",
      "#87727 - Missing in Action (1984)\n",
      "#87739 - Monaco Forever (1984)\n",
      "#88001 - Rhinestone (1984)\n",
      "#88161 - Splash (1984)\n",
      "#88247 - The Terminator (1984)\n",
      "#88272 - Tightrope (1984)\n",
      "#92264 - Heroes Shed No Tears (1984)\n",
      "#103064 - Terminator 2: Judgment Day (1991)\n",
      "#181852 - Terminator 3: Rise of the Machines (2003)\n",
      "#1340138 - Terminator Genisys (2015)\n",
      "#4824394 - Terminator Genisys: The YouTube Chronicles (2015)\n",
      "#6450804 - Terminator: Dark Fate (2019)\n"
     ]
    }
   ],
   "source": [
    "# AND &, OR |, XOR ^, NOT ~\n",
    "for m in Movie.objects.filter(Q(year=1984) | Q(title__icontains='terminator')):\n",
    "    print(m)\n"
   ]
  },
  {
   "cell_type": "code",
   "execution_count": 49,
   "id": "bafee81f-48f5-4467-a2e3-6e2084169c8f",
   "metadata": {},
   "outputs": [
    {
     "data": {
      "text/plain": [
       "(1188, 16, 1204)"
      ]
     },
     "execution_count": 49,
     "metadata": {},
     "output_type": "execute_result"
    }
   ],
   "source": [
    "Movie.objects.filter(~Q(year=1984)).count(), Movie.objects.filter(year=1984).count(), Movie.objects.count()"
   ]
  },
  {
   "cell_type": "code",
   "execution_count": 50,
   "id": "83ed9edb-8552-4334-bb36-7b7978b73721",
   "metadata": {},
   "outputs": [
    {
     "data": {
      "text/html": [
       "<div>\n",
       "<style scoped>\n",
       "    .dataframe tbody tr th:only-of-type {\n",
       "        vertical-align: middle;\n",
       "    }\n",
       "\n",
       "    .dataframe tbody tr th {\n",
       "        vertical-align: top;\n",
       "    }\n",
       "\n",
       "    .dataframe thead th {\n",
       "        text-align: right;\n",
       "    }\n",
       "</style>\n",
       "<table border=\"1\" class=\"dataframe\">\n",
       "  <thead>\n",
       "    <tr style=\"text-align: right;\">\n",
       "      <th></th>\n",
       "      <th>title</th>\n",
       "      <th>year</th>\n",
       "      <th>long_title</th>\n",
       "    </tr>\n",
       "  </thead>\n",
       "  <tbody>\n",
       "    <tr>\n",
       "      <th>13</th>\n",
       "      <td>The Terminator</td>\n",
       "      <td>1984</td>\n",
       "      <td>The Terminator (1984)</td>\n",
       "    </tr>\n",
       "  </tbody>\n",
       "</table>\n",
       "</div>"
      ],
      "text/plain": [
       "             title  year             long_title\n",
       "13  The Terminator  1984  The Terminator (1984)"
      ]
     },
     "execution_count": 50,
     "metadata": {},
     "output_type": "execute_result"
    }
   ],
   "source": [
    "# same technique in pandas (and numpy)\n",
    "df[df.title.str.contains('terminator', case=False) & (df.year == 1984)]"
   ]
  },
  {
   "cell_type": "code",
   "execution_count": 51,
   "id": "c18578e8-f7ce-43b0-bd3b-c8b8b73b1209",
   "metadata": {},
   "outputs": [
    {
     "name": "stdout",
     "output_type": "stream",
     "text": [
      "{'title': 'Excuse Me', 'dummy': 2015}\n",
      "{'title': 'Anton the Terrible', 'dummy': 2016}\n",
      "{'title': 'The Mysterious Mrs. Musslewhite', 'dummy': 2017}\n",
      "{'title': 'On the Level', 'dummy': 2017}\n",
      "{'title': 'The Sunset Trail', 'dummy': 2017}\n",
      "{'title': 'The Tides of Barnegat', 'dummy': 2017}\n",
      "{'title': 'The Cruise of the Make-Believes', 'dummy': 2018}\n",
      "{'title': 'Good Night, Paul', 'dummy': 2018}\n",
      "{'title': 'Proud Flesh', 'dummy': 2025}\n",
      "{'title': 'A Woman Against the World', 'dummy': 2028}\n"
     ]
    }
   ],
   "source": [
    "for m in Movie.objects.annotate(dummy=F('year') + 100) \\\n",
    "        .values('title', 'dummy')[:10]:\n",
    "    print(m)"
   ]
  },
  {
   "cell_type": "markdown",
   "id": "3fd7f7ff-02df-45c0-a250-a4bfff10a0cb",
   "metadata": {},
   "source": [
    "### 3.4 - Navigate through relationship"
   ]
  },
  {
   "cell_type": "code",
   "execution_count": 52,
   "id": "760ec54d-d5b5-4572-95b2-7a27abae023a",
   "metadata": {},
   "outputs": [
    {
     "data": {
      "text/plain": [
       "#142 - Clint Eastwood"
      ]
     },
     "execution_count": 52,
     "metadata": {},
     "output_type": "execute_result"
    }
   ],
   "source": [
    "clint = Person.objects.get(name='Clint Eastwood')\n",
    "clint"
   ]
  },
  {
   "cell_type": "code",
   "execution_count": 53,
   "id": "183e567d-5044-48f6-97f8-6af19e5e9887",
   "metadata": {},
   "outputs": [
    {
     "name": "stdout",
     "output_type": "stream",
     "text": [
      "Clint Eastwood as director\n",
      "#3513548 - Richard Jewell (2019)\n",
      "#7959026 - The Mule (2018)\n",
      "#6802308 - The 15:17 to Paris (2018)\n",
      "#3263904 - Sully (2016)\n",
      "#2179136 - American Sniper (2014)\n",
      "#1742044 - Jersey Boys (2014)\n",
      "#1616195 - J. Edgar (2011)\n",
      "#1212419 - Hereafter (2010)\n",
      "#1057500 - Invictus (2009)\n",
      "#1205489 - Gran Torino (2008)\n",
      "#824747 - Changeling (2008)\n",
      "#418689 - Flags of Our Fathers (2006)\n",
      "#498380 - Letters from Iwo Jima (2006)\n",
      "#405159 - Million Dollar Baby (2004)\n",
      "#327056 - Mystic River (2003)\n",
      "#309377 - Blood Work (2002)\n",
      "#186566 - Space Cowboys (2000)\n",
      "#139668 - True Crime (1999)\n",
      "#119668 - Midnight in the Garden of Good and Evil (1997)\n",
      "#118548 - Absolute Power (1997)\n",
      "#112579 - The Bridges of Madison County (1995)\n",
      "#107808 - A Perfect World (1993)\n",
      "#105695 - Unforgiven (1992)\n",
      "#100928 - White Hunter Black Heart (1990)\n",
      "#100514 - The Rookie (1990)\n",
      "#94747 - Bird (1988)\n",
      "#91187 - Heartbreak Ridge (1986)\n",
      "#89767 - Pale Rider (1985)\n",
      "#86383 - Sudden Impact (1983)\n",
      "#84088 - Honkytonk Man (1982)\n",
      "#83943 - Firefox (1982)\n",
      "#80472 - Bronco Billy (1980)\n",
      "#76070 - The Gauntlet (1977)\n",
      "#75029 - The Outlaw Josey Wales (1976)\n",
      "#72926 - The Eiger Sanction (1975)\n",
      "#68699 - High Plains Drifter (1973)\n",
      "#69822 - Breezy (1973)\n",
      "#67588 - Play Misty for Me (1971)\n",
      "\n",
      "Clint Eastwood as actor\n",
      "#7959026 - The Mule (2018)\n",
      "#2179136 - American Sniper (2014)\n",
      "#2083383 - Trouble with the Curve (2012)\n",
      "#1205489 - Gran Torino (2008)\n",
      "#405159 - Million Dollar Baby (2004)\n",
      "#309377 - Blood Work (2002)\n",
      "#186566 - Space Cowboys (2000)\n",
      "#139668 - True Crime (1999)\n",
      "#118548 - Absolute Power (1997)\n",
      "#112642 - Casper (1995)\n",
      "#112579 - The Bridges of Madison County (1995)\n",
      "#107206 - In the Line of Fire (1993)\n",
      "#107808 - A Perfect World (1993)\n",
      "#105695 - Unforgiven (1992)\n",
      "#100928 - White Hunter Black Heart (1990)\n",
      "#100514 - The Rookie (1990)\n",
      "#98097 - Pink Cadillac (1989)\n",
      "#94963 - The Dead Pool (1988)\n",
      "#91187 - Heartbreak Ridge (1986)\n",
      "#89767 - Pale Rider (1985)\n",
      "#88272 - Tightrope (1984)\n",
      "#87062 - City Heat (1984)\n",
      "#86383 - Sudden Impact (1983)\n",
      "#84088 - Honkytonk Man (1982)\n",
      "#83943 - Firefox (1982)\n",
      "#80377 - Any Which Way You Can (1980)\n",
      "#80472 - Bronco Billy (1980)\n",
      "#79116 - Escape from Alcatraz (1979)\n",
      "#77523 - Every Which Way but Loose (1978)\n",
      "#76070 - The Gauntlet (1977)\n",
      "#75029 - The Outlaw Josey Wales (1976)\n",
      "#74483 - The Enforcer (1976)\n",
      "#72926 - The Eiger Sanction (1975)\n",
      "#72288 - Thunderbolt and Lightfoot (1974)\n",
      "#69822 - Breezy (1973)\n",
      "#68699 - High Plains Drifter (1973)\n",
      "#70355 - Magnum Force (1973)\n",
      "#68768 - Joe Kidd (1972)\n",
      "#67588 - Play Misty for Me (1971)\n",
      "#66999 - Dirty Harry (1971)\n",
      "#66819 - The Beguiled (1971)\n",
      "#65938 - Kelly's Heroes (1970)\n",
      "#65134 - Two Mules for Sister Sara (1970)\n",
      "#64782 - Paint Your Wagon (1969)\n",
      "#62824 - Coogan's Bluff (1968)\n",
      "#65207 - Where Eagles Dare (1968)\n",
      "#61747 - Hang 'Em High (1968)\n",
      "#61037 - The Witches (1967)\n",
      "#60196 - The Good, the Bad and the Ugly (1966)\n",
      "#59578 - For a Few Dollars More (1965)\n",
      "#58461 - A Fistful of Dollars (1964)\n",
      "#51349 - Ambush at Cimarron Pass (1958)\n",
      "#51840 - Lafayette Escadrille (1958)\n",
      "#50363 - Escapade in Japan (1957)\n",
      "#49212 - The First Traveling Saleslady (1956)\n",
      "#49793 - Star in the Dust (1956)\n",
      "#49547 - Never Say Goodbye (1956)\n",
      "#48971 - Away All Boats (1956)\n",
      "#48279 - Lady Godiva of Coventry (1955)\n",
      "#48696 - Tarantula (1955)\n",
      "#48554 - Revenge of the Creature (1955)\n",
      "#48092 - Francis in the Navy (1955)\n"
     ]
    }
   ],
   "source": [
    "# movie_set (director only) or directedMovies (with related name): reverse navigation then add classic methods of manager objects \n",
    "# (all, get, filter, annotate, ...)\n",
    "print(\"Clint Eastwood as director\")\n",
    "for m in clint.directedMovies.order_by('-year'):\n",
    "    print(m)\n",
    "print()\n",
    "print(\"Clint Eastwood as actor\")\n",
    "for m in clint.playedMovies.order_by('-year'):\n",
    "    print(m)"
   ]
  },
  {
   "cell_type": "code",
   "execution_count": 54,
   "id": "51cf2016-0783-45e5-90ab-fadde1639f6a",
   "metadata": {},
   "outputs": [
    {
     "data": {
      "text/plain": [
       "<QuerySet [#67588 - Play Misty for Me (1971), #68699 - High Plains Drifter (1973), #69822 - Breezy (1973), #72926 - The Eiger Sanction (1975), #75029 - The Outlaw Josey Wales (1976), #76070 - The Gauntlet (1977), #80472 - Bronco Billy (1980), #83943 - Firefox (1982), #84088 - Honkytonk Man (1982), #86383 - Sudden Impact (1983), #89767 - Pale Rider (1985), #91187 - Heartbreak Ridge (1986), #94747 - Bird (1988), #100514 - The Rookie (1990), #100928 - White Hunter Black Heart (1990), #105695 - Unforgiven (1992), #107808 - A Perfect World (1993), #112579 - The Bridges of Madison County (1995), #118548 - Absolute Power (1997), #119668 - Midnight in the Garden of Good and Evil (1997), '...(remaining elements truncated)...']>"
      ]
     },
     "execution_count": 54,
     "metadata": {},
     "output_type": "execute_result"
    }
   ],
   "source": [
    "Movie.objects.filter(director=clint)"
   ]
  },
  {
   "cell_type": "code",
   "execution_count": 55,
   "id": "e7569225-3210-44b8-90f1-6f04080c6910",
   "metadata": {},
   "outputs": [
    {
     "name": "stdout",
     "output_type": "stream",
     "text": [
      "Firelight #229 - Steven Spielberg\n",
      "The Sugarland Express #229 - Steven Spielberg\n",
      "Capone #142587 - Steve Carver\n",
      "Jaws #229 - Steven Spielberg\n",
      "Close Encounters of the Third Kind #229 - Steven Spielberg\n",
      "1941 #229 - Steven Spielberg\n",
      "Raiders of the Lost Ark #229 - Steven Spielberg\n",
      "E.T. the Extra-Terrestrial #229 - Steven Spielberg\n",
      "Indiana Jones and the Temple of Doom #229 - Steven Spielberg\n",
      "The Color Purple #229 - Steven Spielberg\n",
      "Empire of the Sun #229 - Steven Spielberg\n",
      "Always #229 - Steven Spielberg\n",
      "Indiana Jones and the Last Crusade #229 - Steven Spielberg\n",
      "The Visionary #229 - Steven Spielberg\n",
      "Hook #229 - Steven Spielberg\n",
      "Jurassic Park #229 - Steven Spielberg\n",
      "Schindler's List #229 - Steven Spielberg\n",
      "Street Fighter #211823 - Steven E. de Souza\n",
      "Amistad #229 - Steven Spielberg\n",
      "The Lost World: Jurassic Park #229 - Steven Spielberg\n",
      "Saving Private Ryan #229 - Steven Spielberg\n",
      "Michael Jackson: Video Greatest Hits - HIStory #6625 - Steve Barron\n",
      "Little Nicky #109359 - Steven Brill\n",
      "Minority Report #229 - Steven Spielberg\n",
      "A.I. Artificial Intelligence #229 - Steven Spielberg\n",
      "Catch Me If You Can #229 - Steven Spielberg\n",
      "The Terminal #229 - Steven Spielberg\n",
      "Indiana Jones and the Kingdom of the Crystal Skull #229 - Steven Spielberg\n",
      "War of the Worlds #229 - Steven Spielberg\n",
      "Munich #229 - Steven Spielberg\n",
      "Lincoln #229 - Steven Spielberg\n",
      "The Adventures of Tintin #229 - Steven Spielberg\n",
      "Hunger #2588606 - Steve McQueen\n",
      "War Horse #229 - Steven Spielberg\n",
      "Shame #2588606 - Steve McQueen\n",
      "Ready Player One #229 - Steven Spielberg\n",
      "12 Years a Slave #2588606 - Steve McQueen\n",
      "Bridge of Spies #229 - Steven Spielberg\n",
      "The BFG #229 - Steven Spielberg\n",
      "Widows #2588606 - Steve McQueen\n",
      "The Post #229 - Steven Spielberg\n",
      "Creed II #4023702 - Steven Caple Jr.\n",
      "Escape Plan 2: Hades #1921345 - Steven C. Miller\n"
     ]
    }
   ],
   "source": [
    "reset_queries()\n",
    "for m in Movie.objects.filter(director__name__istartswith='steve'):\n",
    "    print(m.title, m.director)"
   ]
  },
  {
   "cell_type": "code",
   "execution_count": 56,
   "id": "85b646ab-ee3c-43e4-945e-587065df0aaa",
   "metadata": {},
   "outputs": [
    {
     "data": {
      "text/plain": [
       "[{'sql': 'SELECT \"movieapp_movie\".\"id\", \"movieapp_movie\".\"title\", \"movieapp_movie\".\"year\", \"movieapp_movie\".\"duration\", \"movieapp_movie\".\"pg\", \"movieapp_movie\".\"synopsis\", \"movieapp_movie\".\"poster_uri\", \"movieapp_movie\".\"director_id\" FROM \"movieapp_movie\" INNER JOIN \"person\" ON (\"movieapp_movie\".\"director_id\" = \"person\".\"id\") WHERE UPPER(\"person\".\"name\"::text) LIKE UPPER(\\'steve%\\')',\n",
       "  'time': '0.016'},\n",
       " {'sql': 'SELECT \"person\".\"id\", \"person\".\"name\", \"person\".\"birthdate\" FROM \"person\" WHERE \"person\".\"id\" = 229 LIMIT 21',\n",
       "  'time': '0.000'},\n",
       " {'sql': 'SELECT \"person\".\"id\", \"person\".\"name\", \"person\".\"birthdate\" FROM \"person\" WHERE \"person\".\"id\" = 229 LIMIT 21',\n",
       "  'time': '0.000'},\n",
       " {'sql': 'SELECT \"person\".\"id\", \"person\".\"name\", \"person\".\"birthdate\" FROM \"person\" WHERE \"person\".\"id\" = 142587 LIMIT 21',\n",
       "  'time': '0.015'},\n",
       " {'sql': 'SELECT \"person\".\"id\", \"person\".\"name\", \"person\".\"birthdate\" FROM \"person\" WHERE \"person\".\"id\" = 229 LIMIT 21',\n",
       "  'time': '0.000'},\n",
       " {'sql': 'SELECT \"person\".\"id\", \"person\".\"name\", \"person\".\"birthdate\" FROM \"person\" WHERE \"person\".\"id\" = 229 LIMIT 21',\n",
       "  'time': '0.000'},\n",
       " {'sql': 'SELECT \"person\".\"id\", \"person\".\"name\", \"person\".\"birthdate\" FROM \"person\" WHERE \"person\".\"id\" = 229 LIMIT 21',\n",
       "  'time': '0.016'},\n",
       " {'sql': 'SELECT \"person\".\"id\", \"person\".\"name\", \"person\".\"birthdate\" FROM \"person\" WHERE \"person\".\"id\" = 229 LIMIT 21',\n",
       "  'time': '0.000'},\n",
       " {'sql': 'SELECT \"person\".\"id\", \"person\".\"name\", \"person\".\"birthdate\" FROM \"person\" WHERE \"person\".\"id\" = 229 LIMIT 21',\n",
       "  'time': '0.000'},\n",
       " {'sql': 'SELECT \"person\".\"id\", \"person\".\"name\", \"person\".\"birthdate\" FROM \"person\" WHERE \"person\".\"id\" = 229 LIMIT 21',\n",
       "  'time': '0.000'},\n",
       " {'sql': 'SELECT \"person\".\"id\", \"person\".\"name\", \"person\".\"birthdate\" FROM \"person\" WHERE \"person\".\"id\" = 229 LIMIT 21',\n",
       "  'time': '0.000'},\n",
       " {'sql': 'SELECT \"person\".\"id\", \"person\".\"name\", \"person\".\"birthdate\" FROM \"person\" WHERE \"person\".\"id\" = 229 LIMIT 21',\n",
       "  'time': '0.000'},\n",
       " {'sql': 'SELECT \"person\".\"id\", \"person\".\"name\", \"person\".\"birthdate\" FROM \"person\" WHERE \"person\".\"id\" = 229 LIMIT 21',\n",
       "  'time': '0.000'},\n",
       " {'sql': 'SELECT \"person\".\"id\", \"person\".\"name\", \"person\".\"birthdate\" FROM \"person\" WHERE \"person\".\"id\" = 229 LIMIT 21',\n",
       "  'time': '0.000'},\n",
       " {'sql': 'SELECT \"person\".\"id\", \"person\".\"name\", \"person\".\"birthdate\" FROM \"person\" WHERE \"person\".\"id\" = 229 LIMIT 21',\n",
       "  'time': '0.000'},\n",
       " {'sql': 'SELECT \"person\".\"id\", \"person\".\"name\", \"person\".\"birthdate\" FROM \"person\" WHERE \"person\".\"id\" = 229 LIMIT 21',\n",
       "  'time': '0.000'},\n",
       " {'sql': 'SELECT \"person\".\"id\", \"person\".\"name\", \"person\".\"birthdate\" FROM \"person\" WHERE \"person\".\"id\" = 229 LIMIT 21',\n",
       "  'time': '0.000'},\n",
       " {'sql': 'SELECT \"person\".\"id\", \"person\".\"name\", \"person\".\"birthdate\" FROM \"person\" WHERE \"person\".\"id\" = 229 LIMIT 21',\n",
       "  'time': '0.000'},\n",
       " {'sql': 'SELECT \"person\".\"id\", \"person\".\"name\", \"person\".\"birthdate\" FROM \"person\" WHERE \"person\".\"id\" = 211823 LIMIT 21',\n",
       "  'time': '0.000'},\n",
       " {'sql': 'SELECT \"person\".\"id\", \"person\".\"name\", \"person\".\"birthdate\" FROM \"person\" WHERE \"person\".\"id\" = 229 LIMIT 21',\n",
       "  'time': '0.000'},\n",
       " {'sql': 'SELECT \"person\".\"id\", \"person\".\"name\", \"person\".\"birthdate\" FROM \"person\" WHERE \"person\".\"id\" = 229 LIMIT 21',\n",
       "  'time': '0.000'},\n",
       " {'sql': 'SELECT \"person\".\"id\", \"person\".\"name\", \"person\".\"birthdate\" FROM \"person\" WHERE \"person\".\"id\" = 229 LIMIT 21',\n",
       "  'time': '0.000'},\n",
       " {'sql': 'SELECT \"person\".\"id\", \"person\".\"name\", \"person\".\"birthdate\" FROM \"person\" WHERE \"person\".\"id\" = 6625 LIMIT 21',\n",
       "  'time': '0.000'},\n",
       " {'sql': 'SELECT \"person\".\"id\", \"person\".\"name\", \"person\".\"birthdate\" FROM \"person\" WHERE \"person\".\"id\" = 109359 LIMIT 21',\n",
       "  'time': '0.000'},\n",
       " {'sql': 'SELECT \"person\".\"id\", \"person\".\"name\", \"person\".\"birthdate\" FROM \"person\" WHERE \"person\".\"id\" = 229 LIMIT 21',\n",
       "  'time': '0.000'},\n",
       " {'sql': 'SELECT \"person\".\"id\", \"person\".\"name\", \"person\".\"birthdate\" FROM \"person\" WHERE \"person\".\"id\" = 229 LIMIT 21',\n",
       "  'time': '0.000'},\n",
       " {'sql': 'SELECT \"person\".\"id\", \"person\".\"name\", \"person\".\"birthdate\" FROM \"person\" WHERE \"person\".\"id\" = 229 LIMIT 21',\n",
       "  'time': '0.000'},\n",
       " {'sql': 'SELECT \"person\".\"id\", \"person\".\"name\", \"person\".\"birthdate\" FROM \"person\" WHERE \"person\".\"id\" = 229 LIMIT 21',\n",
       "  'time': '0.000'},\n",
       " {'sql': 'SELECT \"person\".\"id\", \"person\".\"name\", \"person\".\"birthdate\" FROM \"person\" WHERE \"person\".\"id\" = 229 LIMIT 21',\n",
       "  'time': '0.000'},\n",
       " {'sql': 'SELECT \"person\".\"id\", \"person\".\"name\", \"person\".\"birthdate\" FROM \"person\" WHERE \"person\".\"id\" = 229 LIMIT 21',\n",
       "  'time': '0.000'},\n",
       " {'sql': 'SELECT \"person\".\"id\", \"person\".\"name\", \"person\".\"birthdate\" FROM \"person\" WHERE \"person\".\"id\" = 229 LIMIT 21',\n",
       "  'time': '0.000'},\n",
       " {'sql': 'SELECT \"person\".\"id\", \"person\".\"name\", \"person\".\"birthdate\" FROM \"person\" WHERE \"person\".\"id\" = 229 LIMIT 21',\n",
       "  'time': '0.000'},\n",
       " {'sql': 'SELECT \"person\".\"id\", \"person\".\"name\", \"person\".\"birthdate\" FROM \"person\" WHERE \"person\".\"id\" = 229 LIMIT 21',\n",
       "  'time': '0.000'},\n",
       " {'sql': 'SELECT \"person\".\"id\", \"person\".\"name\", \"person\".\"birthdate\" FROM \"person\" WHERE \"person\".\"id\" = 2588606 LIMIT 21',\n",
       "  'time': '0.000'},\n",
       " {'sql': 'SELECT \"person\".\"id\", \"person\".\"name\", \"person\".\"birthdate\" FROM \"person\" WHERE \"person\".\"id\" = 229 LIMIT 21',\n",
       "  'time': '0.000'},\n",
       " {'sql': 'SELECT \"person\".\"id\", \"person\".\"name\", \"person\".\"birthdate\" FROM \"person\" WHERE \"person\".\"id\" = 2588606 LIMIT 21',\n",
       "  'time': '0.016'},\n",
       " {'sql': 'SELECT \"person\".\"id\", \"person\".\"name\", \"person\".\"birthdate\" FROM \"person\" WHERE \"person\".\"id\" = 229 LIMIT 21',\n",
       "  'time': '0.000'},\n",
       " {'sql': 'SELECT \"person\".\"id\", \"person\".\"name\", \"person\".\"birthdate\" FROM \"person\" WHERE \"person\".\"id\" = 2588606 LIMIT 21',\n",
       "  'time': '0.000'},\n",
       " {'sql': 'SELECT \"person\".\"id\", \"person\".\"name\", \"person\".\"birthdate\" FROM \"person\" WHERE \"person\".\"id\" = 229 LIMIT 21',\n",
       "  'time': '0.000'},\n",
       " {'sql': 'SELECT \"person\".\"id\", \"person\".\"name\", \"person\".\"birthdate\" FROM \"person\" WHERE \"person\".\"id\" = 229 LIMIT 21',\n",
       "  'time': '0.000'},\n",
       " {'sql': 'SELECT \"person\".\"id\", \"person\".\"name\", \"person\".\"birthdate\" FROM \"person\" WHERE \"person\".\"id\" = 2588606 LIMIT 21',\n",
       "  'time': '0.000'},\n",
       " {'sql': 'SELECT \"person\".\"id\", \"person\".\"name\", \"person\".\"birthdate\" FROM \"person\" WHERE \"person\".\"id\" = 229 LIMIT 21',\n",
       "  'time': '0.000'},\n",
       " {'sql': 'SELECT \"person\".\"id\", \"person\".\"name\", \"person\".\"birthdate\" FROM \"person\" WHERE \"person\".\"id\" = 4023702 LIMIT 21',\n",
       "  'time': '0.000'},\n",
       " {'sql': 'SELECT \"person\".\"id\", \"person\".\"name\", \"person\".\"birthdate\" FROM \"person\" WHERE \"person\".\"id\" = 1921345 LIMIT 21',\n",
       "  'time': '0.000'}]"
      ]
     },
     "execution_count": 56,
     "metadata": {},
     "output_type": "execute_result"
    }
   ],
   "source": [
    "# NB: N+1 queries to be optimized\n",
    "connection.queries"
   ]
  },
  {
   "cell_type": "markdown",
   "id": "9ce8d78a-ab49-4666-b82a-4ab483149767",
   "metadata": {},
   "source": [
    "### 3.5 - Group By + Aggregate functions "
   ]
  },
  {
   "cell_type": "code",
   "execution_count": 57,
   "id": "0ce2600f-f68a-4a80-ada8-84549b6097a8",
   "metadata": {},
   "outputs": [
    {
     "name": "stdout",
     "output_type": "stream",
     "text": [
      "{'year': 2023, 'nb': 17}\n",
      "{'year': 2020, 'nb': 4}\n",
      "{'year': 2019, 'nb': 21}\n",
      "{'year': 2018, 'nb': 16}\n",
      "{'year': 2017, 'nb': 18}\n",
      "{'year': 2016, 'nb': 13}\n",
      "{'year': 2015, 'nb': 22}\n",
      "{'year': 2014, 'nb': 16}\n",
      "{'year': 2013, 'nb': 25}\n",
      "{'year': 2012, 'nb': 21}\n"
     ]
    }
   ],
   "source": [
    "# NB: values clause gives grouping criteria + fields projected\n",
    "for row in Movie.objects.values('year').annotate(nb=Count('id')).order_by('-year')[:10]:\n",
    "    print(row)"
   ]
  },
  {
   "cell_type": "code",
   "execution_count": 58,
   "id": "d0ce00d0-b333-443c-b49f-c7319bb03dd2",
   "metadata": {},
   "outputs": [
    {
     "data": {
      "text/plain": [
       "{'nb': 1204, 'year_min': 1915, 'year_max': 2023, 'duration_total': 128815}"
      ]
     },
     "execution_count": 58,
     "metadata": {},
     "output_type": "execute_result"
    }
   ],
   "source": [
    "Movie.objects.aggregate(nb=Count('id'), year_min=Min('year'), year_max=Max('year'), duration_total=Sum('duration'))"
   ]
  },
  {
   "cell_type": "code",
   "execution_count": 59,
   "id": "95deef87-8ae3-4349-afb0-3929fe66046e",
   "metadata": {},
   "outputs": [
    {
     "data": {
      "text/plain": [
       "<QuerySet [{'director__id': 33, 'director__name': 'Alfred Hitchcock', 'nb': 55, 'year_min': 1922, 'year_max': 1976, 'duration_total': 5430}, {'director__id': 41, 'director__name': 'Akira Kurosawa', 'nb': 1, 'year_min': 1990, 'year_max': 1990, 'duration_total': 119}, {'director__id': 78, 'director__name': 'John Wayne', 'nb': 1, 'year_min': 1960, 'year_max': 1960, 'duration_total': 162}, {'director__id': 95, 'director__name': 'Woody Allen', 'nb': 3, 'year_min': 1971, 'year_max': 2015, 'duration_total': 301}, {'director__id': 116, 'director__name': 'James Cameron', 'nb': 8, 'year_min': 1981, 'year_max': 2009, 'duration_total': 1143}, {'director__id': 142, 'director__name': 'Clint Eastwood', 'nb': 38, 'year_min': 1971, 'year_max': 2019, 'duration_total': 4768}, {'director__id': 158, 'director__name': 'Tom Hanks', 'nb': 2, 'year_min': 1996, 'year_max': 2011, 'duration_total': 206}, {'director__id': 165, 'director__name': 'Ron Howard', 'nb': 6, 'year_min': 1984, 'year_max': 2016, 'duration_total': 783}, {'director__id': 184, 'director__name': 'George Lucas', 'nb': 2, 'year_min': 1973, 'year_max': 1977, 'duration_total': 231}, {'director__id': 204, 'director__name': 'Natalie Portman', 'nb': 1, 'year_min': 2015, 'year_max': 2015, 'duration_total': 95}, {'director__id': 212, 'director__name': 'Meg Ryan', 'nb': 1, 'year_min': 2015, 'year_max': 2015, 'duration_total': 96}, {'director__id': 217, 'director__name': 'Martin Scorsese', 'nb': 25, 'year_min': 1967, 'year_max': 2019, 'duration_total': 3437}, {'director__id': 229, 'director__name': 'Steven Spielberg', 'nb': 33, 'year_min': 1964, 'year_max': 2018, 'duration_total': 4421}, {'director__id': 230, 'director__name': 'Sylvester Stallone', 'nb': 8, 'year_min': 1978, 'year_max': 2010, 'duration_total': 806}, {'director__id': 231, 'director__name': 'Oliver Stone', 'nb': 1, 'year_min': 1997, 'year_max': 1997, 'duration_total': 125}, {'director__id': 233, 'director__name': 'Quentin Tarantino', 'nb': 12, 'year_min': 1987, 'year_max': 2019, 'duration_total': 1766}, {'director__id': 241, 'director__name': 'Jean-Claude Van Damme', 'nb': 2, 'year_min': 1996, 'year_max': 2014, 'duration_total': 203}, {'director__id': 247, 'director__name': 'John Woo', 'nb': 32, 'year_min': 1974, 'year_max': 2017, 'duration_total': 3491}, {'director__id': 265, 'director__name': 'Robert Altman', 'nb': 1, 'year_min': 1973, 'year_max': 1973, 'duration_total': 112}, {'director__id': 269, 'director__name': 'Jean-Jacques Annaud', 'nb': 1, 'year_min': 1986, 'year_max': 1986, 'duration_total': 130}, '...(remaining elements truncated)...']>"
      ]
     },
     "execution_count": 59,
     "metadata": {},
     "output_type": "execute_result"
    }
   ],
   "source": [
    "# stats by director: nb movies, first year, last year, total duration\n",
    "# exclude clause optimize query with INNER JOIN instead of LEFT JOIN\n",
    "Movie.objects \\\n",
    "    .exclude(director__isnull=True) \\\n",
    "    .values('director__id', 'director__name').annotate(nb=Count('id'), year_min=Min('year'), year_max=Max('year'), duration_total=Sum('duration'))"
   ]
  },
  {
   "cell_type": "code",
   "execution_count": 60,
   "id": "11b36382-ad1f-476d-b2ce-d00c947efece",
   "metadata": {},
   "outputs": [
    {
     "data": {
      "text/plain": [
       "{'sql': 'SELECT \"movieapp_movie\".\"director_id\", \"person\".\"name\", COUNT(\"movieapp_movie\".\"id\") AS \"nb\", MIN(\"movieapp_movie\".\"year\") AS \"year_min\", MAX(\"movieapp_movie\".\"year\") AS \"year_max\", SUM(\"movieapp_movie\".\"duration\") AS \"duration_total\" FROM \"movieapp_movie\" INNER JOIN \"person\" ON (\"movieapp_movie\".\"director_id\" = \"person\".\"id\") WHERE NOT (\"movieapp_movie\".\"director_id\" IS NULL) GROUP BY \"movieapp_movie\".\"director_id\", \"person\".\"name\" LIMIT 21',\n",
       " 'time': '0.000'}"
      ]
     },
     "execution_count": 60,
     "metadata": {},
     "output_type": "execute_result"
    }
   ],
   "source": [
    "connection.queries[-1]"
   ]
  },
  {
   "cell_type": "code",
   "execution_count": 61,
   "id": "842dc961-aa05-41d1-b6ca-68ec0df9b51d",
   "metadata": {},
   "outputs": [
    {
     "name": "stdout",
     "output_type": "stream",
     "text": [
      "{'director__id': 33, 'director__name': 'Alfred Hitchcock', 'nb': 55, 'year_min': 1922, 'year_max': 1976, 'duration_total': 5430}\n",
      "{'director__id': 142, 'director__name': 'Clint Eastwood', 'nb': 38, 'year_min': 1971, 'year_max': 2019, 'duration_total': 4768}\n",
      "{'director__id': 229, 'director__name': 'Steven Spielberg', 'nb': 33, 'year_min': 1964, 'year_max': 2018, 'duration_total': 4421}\n",
      "{'director__id': 247, 'director__name': 'John Woo', 'nb': 32, 'year_min': 1974, 'year_max': 2017, 'duration_total': 3491}\n",
      "{'director__id': 361, 'director__name': 'Brian De Palma', 'nb': 30, 'year_min': 1968, 'year_max': 2019, 'duration_total': 3138}\n",
      "{'director__id': 217, 'director__name': 'Martin Scorsese', 'nb': 25, 'year_min': 1967, 'year_max': 2019, 'duration_total': 3437}\n",
      "{'director__id': 631, 'director__name': 'Ridley Scott', 'nb': 25, 'year_min': 1977, 'year_max': 2017, 'duration_total': 3218}\n",
      "{'director__id': 406, 'director__name': 'John Ford', 'nb': 20, 'year_min': 1927, 'year_max': 1963, 'duration_total': 2160}\n",
      "{'director__id': 634240, 'director__name': 'Christopher Nolan', 'nb': 17, 'year_min': 1998, 'year_max': 2023, 'duration_total': 2569}\n",
      "{'director__id': 965, 'director__name': 'Danny Boyle', 'nb': 16, 'year_min': 1993, 'year_max': 2019, 'duration_total': 1924}\n",
      "{'director__id': 600, 'director__name': 'Sam Raimi', 'nb': 15, 'year_min': 1977, 'year_max': 2013, 'duration_total': 1592}\n",
      "{'director__id': 250445, 'director__name': 'Walter Edwards', 'nb': 14, 'year_min': 1918, 'year_max': 1920, 'duration_total': 710}\n",
      "{'director__id': 102908, 'director__name': 'Robert N. Bradbury', 'nb': 13, 'year_min': 1933, 'year_max': 1935, 'duration_total': 708}\n",
      "{'director__id': 1392, 'director__name': 'Peter Jackson', 'nb': 13, 'year_min': 1987, 'year_max': 2014, 'duration_total': 1855}\n",
      "{'director__id': 233, 'director__name': 'Quentin Tarantino', 'nb': 12, 'year_min': 1987, 'year_max': 2019, 'duration_total': 1766}\n",
      "{'director__id': 1054, 'director__name': 'Joel Coen', 'nb': 10, 'year_min': 1984, 'year_max': 2003, 'duration_total': 1073}\n"
     ]
    }
   ],
   "source": [
    "# same query with Having clause\n",
    "threshold = 10\n",
    "for row in Movie.objects \\\n",
    "        .exclude(director__isnull=True) \\\n",
    "        .values('director__id', 'director__name') \\\n",
    "        .annotate(nb=Count('id'), year_min=Min('year'), year_max=Max('year'), duration_total=Sum('duration')) \\\n",
    "        .filter(nb__gte=threshold) \\\n",
    "        .order_by('-nb'):\n",
    "    print(row)"
   ]
  },
  {
   "cell_type": "code",
   "execution_count": 62,
   "id": "ab7924dd-7a53-44cb-a880-24b9aeab68c8",
   "metadata": {},
   "outputs": [
    {
     "data": {
      "text/plain": [
       "{'sql': 'SELECT \"movieapp_movie\".\"director_id\", \"person\".\"name\", COUNT(\"movieapp_movie\".\"id\") AS \"nb\", MIN(\"movieapp_movie\".\"year\") AS \"year_min\", MAX(\"movieapp_movie\".\"year\") AS \"year_max\", SUM(\"movieapp_movie\".\"duration\") AS \"duration_total\" FROM \"movieapp_movie\" INNER JOIN \"person\" ON (\"movieapp_movie\".\"director_id\" = \"person\".\"id\") WHERE NOT (\"movieapp_movie\".\"director_id\" IS NULL) GROUP BY \"movieapp_movie\".\"director_id\", \"person\".\"name\" HAVING COUNT(\"movieapp_movie\".\"id\") >= 10 ORDER BY 3 DESC',\n",
       " 'time': '0.000'}"
      ]
     },
     "execution_count": 62,
     "metadata": {},
     "output_type": "execute_result"
    }
   ],
   "source": [
    "connection.queries[-1]"
   ]
  },
  {
   "cell_type": "markdown",
   "id": "aa13ff89-14b3-4864-8afb-1ab34a25361d",
   "metadata": {},
   "source": [
    "## 4 - ManyToMany"
   ]
  },
  {
   "cell_type": "markdown",
   "id": "3fda6ef7-0a56-471b-8bf0-700cc4b1233e",
   "metadata": {},
   "source": [
    "### 4.1 - without role"
   ]
  },
  {
   "cell_type": "code",
   "execution_count": 63,
   "id": "73be2974-d881-4dab-be17-0eea8adbd88a",
   "metadata": {},
   "outputs": [
    {
     "data": {
      "text/plain": [
       "#8079273 - Oppenheimer (2023)"
      ]
     },
     "execution_count": 63,
     "metadata": {},
     "output_type": "execute_result"
    }
   ],
   "source": [
    "movieOppenheimer"
   ]
  },
  {
   "cell_type": "code",
   "execution_count": 64,
   "id": "d89e8e69-aae4-4d59-9343-fab229327890",
   "metadata": {},
   "outputs": [],
   "source": [
    "#Stars: Cillian Murphy Emily Blunt Matt Damon\n",
    "mat = Person.objects.filter(name__icontains='Matt Damon')[0]\n",
    "emily = Person.objects.filter(name__icontains='Emily Blunt')[0]\n",
    "cylian = Person.objects.filter(name__icontains='Cillian Murphy')[0]"
   ]
  },
  {
   "cell_type": "code",
   "execution_count": 65,
   "id": "998eadc9-3e64-4558-bf92-8a477b06a630",
   "metadata": {},
   "outputs": [],
   "source": [
    "# add or set actors: actors.add, actors.set, actors.remove\n",
    "reset_queries()\n",
    "movieOppenheimer.actors.add(mat, emily, cylian)\n",
    "movieOppenheimer.save()"
   ]
  },
  {
   "cell_type": "code",
   "execution_count": 66,
   "id": "066f414c-decb-4f1a-973d-76c1c52d6efd",
   "metadata": {},
   "outputs": [
    {
     "data": {
      "text/plain": [
       "[{'sql': 'BEGIN', 'time': '0.000'},\n",
       " {'sql': 'SELECT \"play\".\"actor_id\" FROM \"play\" WHERE (\"play\".\"actor_id\" IN (1289434, 354, 614165) AND \"play\".\"movie_id\" = 8079273)',\n",
       "  'time': '0.000'},\n",
       " {'sql': 'INSERT INTO \"play\" (\"movie_id\", \"actor_id\", \"role\") VALUES (8079273, 1289434, NULL), (8079273, 354, NULL), (8079273, 614165, NULL) RETURNING \"play\".\"id\"',\n",
       "  'time': '0.000'},\n",
       " {'sql': 'COMMIT', 'time': '0.016'},\n",
       " {'sql': 'UPDATE \"movieapp_movie\" SET \"title\" = \\'Oppenheimer\\', \"year\" = 2023, \"duration\" = 180, \"pg\" = \\'R\\', \"synopsis\" = \\'The story of American scientist, J. Robert Oppenheimer, and his role in the development of the atomic bomb.\\', \"poster_uri\" = NULL, \"director_id\" = 634240 WHERE \"movieapp_movie\".\"id\" = 8079273',\n",
       "  'time': '0.000'}]"
      ]
     },
     "execution_count": 66,
     "metadata": {},
     "output_type": "execute_result"
    }
   ],
   "source": [
    "connection.queries"
   ]
  },
  {
   "cell_type": "code",
   "execution_count": 67,
   "id": "1f656e1a-c507-42fe-bb35-747baf68f314",
   "metadata": {},
   "outputs": [
    {
     "data": {
      "text/plain": [
       "<QuerySet [#614165 - Cillian Murphy, #1289434 - Emily Blunt, #354 - Matt Damon]>"
      ]
     },
     "execution_count": 67,
     "metadata": {},
     "output_type": "execute_result"
    }
   ],
   "source": [
    "movieOppenheimer.actors.order_by('name')"
   ]
  },
  {
   "cell_type": "markdown",
   "id": "4e89dfd2-23ad-4f6d-be43-2fa3dfc0da8b",
   "metadata": {},
   "source": [
    "### 4.2 - With role\n",
    "To add actors with field role use following methods:\n",
    "- movieBarbie.actors.add, movieBarbie.actors.set, movieBarbie.actors.create with through_defaults arg\n",
    "- Play.objects.create"
   ]
  },
  {
   "cell_type": "code",
   "execution_count": 68,
   "id": "224c222f-7e95-4d93-a597-91bdea5f6010",
   "metadata": {},
   "outputs": [
    {
     "data": {
      "text/plain": [
       "#8079274 - Barbie (2023)"
      ]
     },
     "execution_count": 68,
     "metadata": {},
     "output_type": "execute_result"
    }
   ],
   "source": [
    "movieBarbie"
   ]
  },
  {
   "cell_type": "code",
   "execution_count": 69,
   "id": "ef90ff74-139c-47cd-9a74-73b00ceb65f4",
   "metadata": {},
   "outputs": [],
   "source": [
    "margot = Person.objects.filter(name__icontains='Margot Robbie')[0]\n",
    "ryan = Person.objects.filter(name__icontains='ryan gosling')[0]"
   ]
  },
  {
   "cell_type": "code",
   "execution_count": 70,
   "id": "c4caa95c-60e3-4ebe-8d15-650ac1cf4d2c",
   "metadata": {},
   "outputs": [
    {
     "data": {
      "text/plain": [
       "{'sql': 'COMMIT', 'time': '0.000'}"
      ]
     },
     "execution_count": 70,
     "metadata": {},
     "output_type": "execute_result"
    }
   ],
   "source": [
    "movieBarbie.actors.add(margot, through_defaults={'role':'Barbie'})\n",
    "movieBarbie.save()\n",
    "connection.queries[-2]"
   ]
  },
  {
   "cell_type": "code",
   "execution_count": 71,
   "id": "10e97d85-2aa0-4950-8f91-7312e6cb0183",
   "metadata": {},
   "outputs": [
    {
     "data": {
      "text/plain": [
       "<Play: Play object (66562)>"
      ]
     },
     "execution_count": 71,
     "metadata": {},
     "output_type": "execute_result"
    }
   ],
   "source": [
    "Play.objects.create(movie=movieBarbie, actor=ryan, role='Ken')"
   ]
  },
  {
   "cell_type": "code",
   "execution_count": 72,
   "id": "f4a1ce51-4381-4485-b31f-6641ee514277",
   "metadata": {},
   "outputs": [
    {
     "data": {
      "text/plain": [
       "[{'sql': 'SELECT \"play\".\"actor_id\" FROM \"play\" WHERE (\"play\".\"actor_id\" IN (3053338) AND \"play\".\"movie_id\" = 8079274)',\n",
       "  'time': '0.016'},\n",
       " {'sql': 'INSERT INTO \"play\" (\"movie_id\", \"actor_id\", \"role\") VALUES (8079274, 3053338, \\'Barbie\\') RETURNING \"play\".\"id\"',\n",
       "  'time': '0.000'},\n",
       " {'sql': 'COMMIT', 'time': '0.000'},\n",
       " {'sql': 'UPDATE \"movieapp_movie\" SET \"title\" = \\'Barbie\\', \"year\" = 2023, \"duration\" = NULL, \"pg\" = NULL, \"synopsis\" = NULL, \"poster_uri\" = NULL, \"director_id\" = 11903880 WHERE \"movieapp_movie\".\"id\" = 8079274',\n",
       "  'time': '0.000'},\n",
       " {'sql': 'INSERT INTO \"play\" (\"movie_id\", \"actor_id\", \"role\") VALUES (8079274, 331516, \\'Ken\\') RETURNING \"play\".\"id\"',\n",
       "  'time': '0.000'}]"
      ]
     },
     "execution_count": 72,
     "metadata": {},
     "output_type": "execute_result"
    }
   ],
   "source": [
    "connection.queries[-5:]"
   ]
  },
  {
   "cell_type": "code",
   "execution_count": 73,
   "id": "e2df0ab5-b78f-4d12-98ba-a365e95c1824",
   "metadata": {},
   "outputs": [
    {
     "data": {
      "text/plain": [
       "<QuerySet [#3053338 - Margot Robbie, #331516 - Ryan Gosling]>"
      ]
     },
     "execution_count": 73,
     "metadata": {},
     "output_type": "execute_result"
    }
   ],
   "source": [
    "# actors with notion ofplay/role transparent\n",
    "movieBarbie.actors.all()"
   ]
  },
  {
   "cell_type": "code",
   "execution_count": 76,
   "id": "2469abf3-1b49-4486-8f40-f0c1a32d6ca9",
   "metadata": {},
   "outputs": [
    {
     "name": "stdout",
     "output_type": "stream",
     "text": [
      "#3053338 - Margot Robbie  ->  Barbie\n",
      "#331516 - Ryan Gosling  ->  Ken\n"
     ]
    }
   ],
   "source": [
    "# actors through play table with role\n",
    "# NB: play_set manager name can be customized with arg related_name in class Play mapping\n",
    "# for p in movieBarbie.play_set.all():\n",
    "for p in movieBarbie.actorsWithRole.all():\n",
    "     print(p.actor, ' -> ', p.role)"
   ]
  },
  {
   "cell_type": "code",
   "execution_count": null,
   "id": "f9f05342-0dfc-48a4-9b70-62de32d43813",
   "metadata": {},
   "outputs": [],
   "source": [
    "for p in Play.objects.filter(movie=movieBarbie):\n",
    "    print(p.actor, ' -> ', p.role)"
   ]
  }
 ],
 "metadata": {
  "kernelspec": {
   "display_name": "Django Shell-Plus",
   "language": "python",
   "name": "django_extensions"
  },
  "language_info": {
   "codemirror_mode": {
    "name": "ipython",
    "version": 3
   },
   "file_extension": ".py",
   "mimetype": "text/x-python",
   "name": "python",
   "nbconvert_exporter": "python",
   "pygments_lexer": "ipython3",
   "version": "3.10.9"
  }
 },
 "nbformat": 4,
 "nbformat_minor": 5
}
