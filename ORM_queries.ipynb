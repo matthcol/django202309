{
 "cells": [
  {
   "cell_type": "markdown",
   "id": "c45f9124-ccf0-4524-baf3-435bf2464010",
   "metadata": {},
   "source": [
    "# DB Queries with Django ORM"
   ]
  },
  {
   "cell_type": "code",
   "execution_count": 88,
   "id": "1d3326c1-a2c4-4a0e-b82d-ddad421692a4",
   "metadata": {},
   "outputs": [],
   "source": [
    "from django.db import connection, reset_queries\n",
    "from datetime import date\n",
    "# from django.db.models import Avg, Count, Min, Max, Q, F, Value as V, Exists, ..\n",
    "from django.db.models import Value as V\n",
    "from django.db.models.functions import Upper, Lower, Substr, Coalesce, Extract, Concat, Round, Ceil, Floor #, ..."
   ]
  },
  {
   "cell_type": "markdown",
   "id": "68e71d95-e9fc-4e41-874a-e9d4bf589065",
   "metadata": {},
   "source": [
    "## 1 - Basic CRUD"
   ]
  },
  {
   "cell_type": "markdown",
   "id": "4db07c6a-3e08-4a57-ac05-cf7d3aa70354",
   "metadata": {},
   "source": [
    "### 1.1 - Get all elements and pagination"
   ]
  },
  {
   "cell_type": "code",
   "execution_count": 2,
   "id": "9933f107-fffa-43c1-8002-74658233f48a",
   "metadata": {
    "scrolled": true
   },
   "outputs": [
    {
     "name": "stdout",
     "output_type": "stream",
     "text": [
      "[]\n"
     ]
    },
    {
     "data": {
      "text/plain": [
       "<QuerySet [#5257 - Excuse Me (1915), #6366 - Anton the Terrible (1916), #8351 - The Mysterious Mrs. Musslewhite (1917), #8384 - On the Level (1917), #8642 - The Sunset Trail (1917), #8676 - The Tides of Barnegat (1917), #8981 - The Cruise of the Make-Believes (1918), #9124 - Good Night, Paul (1918), #16251 - Proud Flesh (1925), #19588 - A Woman Against the World (1928), #8079250 - Oppenheimer (2023), #9274 - A Lady's Name (1918), #9403 - Mrs. Leffingwell's Boots (1918), #9475 - A Pair of Silk Stockings (1918), #9492 - A Petticoat Pilot (1918), #9576 - Sauce for the Goose (1918), #9666 - Such a Little Pirate (1918), #9740 - Unclaimed Goods (1918), #9767 - Viviette (1918), #19699 - The Black Watch (1929), '...(remaining elements truncated)...']>"
      ]
     },
     "execution_count": 2,
     "metadata": {},
     "output_type": "execute_result"
    }
   ],
   "source": [
    "reset_queries()\n",
    "queryset = Movie.objects.all()\n",
    "print(connection.queries) # no SQL here, QuerySet object is lazy\n",
    "queryset"
   ]
  },
  {
   "cell_type": "code",
   "execution_count": 3,
   "id": "3c158653-33ff-4b1e-843c-965748e10b7e",
   "metadata": {},
   "outputs": [
    {
     "data": {
      "text/plain": [
       "[{'sql': 'SELECT \"movieapp_movie\".\"id\", \"movieapp_movie\".\"title\", \"movieapp_movie\".\"year\", \"movieapp_movie\".\"duration\", \"movieapp_movie\".\"pg\", \"movieapp_movie\".\"synopsis\", \"movieapp_movie\".\"poster_uri\", \"movieapp_movie\".\"director_id\" FROM \"movieapp_movie\" LIMIT 21',\n",
       "  'time': '0.032'}]"
      ]
     },
     "execution_count": 3,
     "metadata": {},
     "output_type": "execute_result"
    }
   ],
   "source": [
    "connection.queries"
   ]
  },
  {
   "cell_type": "code",
   "execution_count": 4,
   "id": "ac79abfa-69bd-4cec-a537-2bc4f00b28f4",
   "metadata": {},
   "outputs": [
    {
     "data": {
      "text/plain": [
       "<QuerySet [#13592 - Shadows (1922), #13611 - Smilin' Through (1922), #13751 - When Love Comes (1922), #16514 - The Wheel (1925), #21015 - Juno and the Paycock (1930), #21128 - Mary (1931), #13891 - Bright Lights of Broadway (1923), #14205 - Little Old New York (1923), #14264 - Maytime (1923), #14572 - Vanity Fair (1923), #14689 - The Average Woman (1924), #14918 - A Fool's Awakening (1924), #15022 - Janice Meredith (1924), #15249 - The Price of a Party (1924), #16048 - Lovers in Quarantine (1925), #16062 - The Mad Marriage (1925), #16093 - The Marriage Whirl (1925), #16127 - The Mountain Eagle (1926), #16230 - The Pleasure Garden (1925), #8079253 - Oppenheimer (2023), '...(remaining elements truncated)...']>"
      ]
     },
     "execution_count": 4,
     "metadata": {},
     "output_type": "execute_result"
    }
   ],
   "source": [
    "reset_queries()\n",
    "queryset = Movie.objects.all()\n",
    "movie_slice = queryset[50:100]  # new lazy Query Set, pagination\n",
    "movie_slice"
   ]
  },
  {
   "cell_type": "code",
   "execution_count": 5,
   "id": "593e2d02-377d-4b6b-958d-6405d24dfb15",
   "metadata": {},
   "outputs": [
    {
     "data": {
      "text/plain": [
       "[{'sql': 'SELECT \"movieapp_movie\".\"id\", \"movieapp_movie\".\"title\", \"movieapp_movie\".\"year\", \"movieapp_movie\".\"duration\", \"movieapp_movie\".\"pg\", \"movieapp_movie\".\"synopsis\", \"movieapp_movie\".\"poster_uri\", \"movieapp_movie\".\"director_id\" FROM \"movieapp_movie\" LIMIT 21 OFFSET 50',\n",
       "  'time': '0.016'}]"
      ]
     },
     "execution_count": 5,
     "metadata": {},
     "output_type": "execute_result"
    }
   ],
   "source": [
    "connection.queries"
   ]
  },
  {
   "cell_type": "code",
   "execution_count": 6,
   "id": "9110562c-9241-4756-8c22-ee036ffbddb6",
   "metadata": {},
   "outputs": [
    {
     "name": "stdout",
     "output_type": "stream",
     "text": [
      "[{'sql': 'SELECT \"movieapp_movie\".\"id\", \"movieapp_movie\".\"title\", \"movieapp_movie\".\"year\", \"movieapp_movie\".\"duration\", \"movieapp_movie\".\"pg\", \"movieapp_movie\".\"synopsis\", \"movieapp_movie\".\"poster_uri\", \"movieapp_movie\".\"director_id\" FROM \"movieapp_movie\" LIMIT 21 OFFSET 50', 'time': '0.016'}, {'sql': 'SELECT \"movieapp_movie\".\"id\", \"movieapp_movie\".\"title\", \"movieapp_movie\".\"year\", \"movieapp_movie\".\"duration\", \"movieapp_movie\".\"pg\", \"movieapp_movie\".\"synopsis\", \"movieapp_movie\".\"poster_uri\", \"movieapp_movie\".\"director_id\" FROM \"movieapp_movie\"', 'time': '0.125'}]\n",
      "1190 [#5257 - Excuse Me (1915), #6366 - Anton the Terrible (1916)] [#7959026 - The Mule (2018), #8079248 - Yesterday (2019)]\n"
     ]
    }
   ],
   "source": [
    "movies = list(queryset) # a queryset is iterable\n",
    "print(connection.queries)\n",
    "print(len(movies), movies[:2], movies[-2:])"
   ]
  },
  {
   "cell_type": "markdown",
   "id": "98513fea-aa40-46a8-85e3-3fa7689bb52f",
   "metadata": {},
   "source": [
    "### 1.2 - Get One element\n",
    "Only one result: primary key, unique column"
   ]
  },
  {
   "cell_type": "code",
   "execution_count": 7,
   "id": "efe8ef23-ed31-47c8-b328-2a7a938ff9c9",
   "metadata": {},
   "outputs": [
    {
     "data": {
      "text/plain": [
       "#5257 - Excuse Me (1915)"
      ]
     },
     "execution_count": 7,
     "metadata": {},
     "output_type": "execute_result"
    }
   ],
   "source": [
    "m = Movie.objects.get(id=5257)  # pk by column name\n",
    "m"
   ]
  },
  {
   "cell_type": "code",
   "execution_count": 8,
   "id": "919515e7-a06f-4104-b740-09b2bbd40b2b",
   "metadata": {},
   "outputs": [
    {
     "data": {
      "text/plain": [
       "#5257 - Excuse Me (1915)"
      ]
     },
     "execution_count": 8,
     "metadata": {},
     "output_type": "execute_result"
    }
   ],
   "source": [
    "m = Movie.objects.get(pk=5257) # pk without the name of the column\n",
    "m"
   ]
  },
  {
   "cell_type": "code",
   "execution_count": 9,
   "id": "3d5bd13b-1026-4b56-b89b-97924e9a81d8",
   "metadata": {},
   "outputs": [
    {
     "name": "stdout",
     "output_type": "stream",
     "text": [
      "No movie with this id\n"
     ]
    }
   ],
   "source": [
    "try:\n",
    "    Movie.objects.get(pk=0)\n",
    "except Movie.DoesNotExist:\n",
    "    print(\"No movie with this id\")"
   ]
  },
  {
   "cell_type": "markdown",
   "id": "1467066a-2dea-4339-88c4-d5e53478fd47",
   "metadata": {},
   "source": [
    "### 1.3 - Lifecycle"
   ]
  },
  {
   "cell_type": "code",
   "execution_count": 10,
   "id": "312bc08d-2346-4bcd-ab42-8a1ebb61e3ff",
   "metadata": {},
   "outputs": [
    {
     "name": "stdout",
     "output_type": "stream",
     "text": [
      "movie id: None\n",
      "movie id: 8079254\n"
     ]
    }
   ],
   "source": [
    "reset_queries()\n",
    "m = Movie(title=\"Oppenheimer\", year=2023)\n",
    "print(\"movie id:\", m.id) \n",
    "m.save()\n",
    "print(\"movie id:\", m.id)"
   ]
  },
  {
   "cell_type": "code",
   "execution_count": 11,
   "id": "4a4de333-2341-44cf-8d3f-1424b31cec2f",
   "metadata": {},
   "outputs": [
    {
     "data": {
      "text/plain": [
       "[{'sql': 'INSERT INTO \"movieapp_movie\" (\"title\", \"year\", \"duration\", \"pg\", \"synopsis\", \"poster_uri\", \"director_id\") VALUES (\\'Oppenheimer\\', 2023, NULL, NULL, NULL, NULL, NULL) RETURNING \"movieapp_movie\".\"id\"',\n",
       "  'time': '0.032'}]"
      ]
     },
     "execution_count": 11,
     "metadata": {},
     "output_type": "execute_result"
    }
   ],
   "source": [
    "connection.queries"
   ]
  },
  {
   "cell_type": "code",
   "execution_count": 12,
   "id": "948eab86-5d27-4e49-95d9-431db71a0e43",
   "metadata": {},
   "outputs": [
    {
     "data": {
      "text/plain": [
       "(1, {'movieapp.Movie': 1})"
      ]
     },
     "execution_count": 12,
     "metadata": {},
     "output_type": "execute_result"
    }
   ],
   "source": [
    "m.delete()"
   ]
  },
  {
   "cell_type": "code",
   "execution_count": 13,
   "id": "b1bbdc04-4afa-4592-8247-1c1d3b0cf59a",
   "metadata": {},
   "outputs": [
    {
     "data": {
      "text/plain": [
       "[{'sql': 'INSERT INTO \"movieapp_movie\" (\"title\", \"year\", \"duration\", \"pg\", \"synopsis\", \"poster_uri\", \"director_id\") VALUES (\\'Oppenheimer\\', 2023, NULL, NULL, NULL, NULL, NULL) RETURNING \"movieapp_movie\".\"id\"',\n",
       "  'time': '0.032'},\n",
       " {'sql': 'DELETE FROM \"movieapp_movie\" WHERE \"movieapp_movie\".\"id\" IN (8079254)',\n",
       "  'time': '0.015'}]"
      ]
     },
     "execution_count": 13,
     "metadata": {},
     "output_type": "execute_result"
    }
   ],
   "source": [
    "connection.queries"
   ]
  },
  {
   "cell_type": "code",
   "execution_count": 14,
   "id": "5fccda57-1bb7-49df-bbdb-8697d4bb0d58",
   "metadata": {},
   "outputs": [
    {
     "name": "stdout",
     "output_type": "stream",
     "text": [
      "movie id: 8079255\n"
     ]
    },
    {
     "data": {
      "text/plain": [
       "[{'sql': 'INSERT INTO \"movieapp_movie\" (\"title\", \"year\", \"duration\", \"pg\", \"synopsis\", \"poster_uri\", \"director_id\") VALUES (\\'Oppenheimer\\', 2023, 180, \\'R\\', NULL, NULL, NULL) RETURNING \"movieapp_movie\".\"id\"',\n",
       "  'time': '0.062'}]"
      ]
     },
     "execution_count": 14,
     "metadata": {},
     "output_type": "execute_result"
    }
   ],
   "source": [
    "reset_queries()\n",
    "movieOppenheimer = Movie.objects.create(title=\"Oppenheimer\", year=2023, duration=180, pg='R')\n",
    "print(\"movie id:\", movieOppenheimer.id)\n",
    "connection.queries"
   ]
  },
  {
   "cell_type": "code",
   "execution_count": 15,
   "id": "4ad43ead-f0e2-45b5-b7ef-138977f17c67",
   "metadata": {},
   "outputs": [
    {
     "data": {
      "text/plain": [
       "[{'sql': 'UPDATE \"movieapp_movie\" SET \"title\" = \\'Oppenheimer\\', \"year\" = 2023, \"duration\" = 180, \"pg\" = \\'R\\', \"synopsis\" = \\'The story of American scientist, J. Robert Oppenheimer, and his role in the development of the atomic bomb.\\', \"poster_uri\" = NULL, \"director_id\" = NULL WHERE \"movieapp_movie\".\"id\" = 8079255',\n",
       "  'time': '0.032'}]"
      ]
     },
     "execution_count": 15,
     "metadata": {},
     "output_type": "execute_result"
    }
   ],
   "source": [
    "reset_queries()\n",
    "movieOppenheimer.synopsis = \"The story of American scientist, J. Robert Oppenheimer, and his role in the development of the atomic bomb.\"\n",
    "movieOppenheimer.save()\n",
    "connection.queries"
   ]
  },
  {
   "cell_type": "markdown",
   "id": "3cdd37d7-4561-4869-95f0-0f4e89ae88d3",
   "metadata": {},
   "source": [
    "# 2 - ManyToOne CRUD"
   ]
  },
  {
   "cell_type": "code",
   "execution_count": 16,
   "id": "d090aabc-ab92-487d-a810-4e0bc85d4fb5",
   "metadata": {},
   "outputs": [
    {
     "name": "stdout",
     "output_type": "stream",
     "text": [
      "[{'sql': 'SELECT \"movieapp_movie\".\"id\", \"movieapp_movie\".\"title\", \"movieapp_movie\".\"year\", \"movieapp_movie\".\"duration\", \"movieapp_movie\".\"pg\", \"movieapp_movie\".\"synopsis\", \"movieapp_movie\".\"poster_uri\", \"movieapp_movie\".\"director_id\" FROM \"movieapp_movie\" WHERE \"movieapp_movie\".\"id\" = 7959026 LIMIT 21', 'time': '0.016'}]\n"
     ]
    },
    {
     "data": {
      "text/plain": [
       "#7959026 - The Mule (2018)"
      ]
     },
     "execution_count": 16,
     "metadata": {},
     "output_type": "execute_result"
    }
   ],
   "source": [
    "reset_queries()\n",
    "m = Movie.objects.get(pk=7959026)\n",
    "print(connection.queries)\n",
    "m"
   ]
  },
  {
   "cell_type": "code",
   "execution_count": 17,
   "id": "23e5e15f-e82b-4611-8bba-9b6e16e578ca",
   "metadata": {},
   "outputs": [
    {
     "data": {
      "text/plain": [
       "142"
      ]
     },
     "execution_count": 17,
     "metadata": {},
     "output_type": "execute_result"
    }
   ],
   "source": [
    "m.director_id"
   ]
  },
  {
   "cell_type": "code",
   "execution_count": 18,
   "id": "197f69db-07c4-4315-9ed0-36b865784f6a",
   "metadata": {},
   "outputs": [
    {
     "name": "stdout",
     "output_type": "stream",
     "text": [
      "[{'sql': 'SELECT \"person\".\"id\", \"person\".\"name\", \"person\".\"birthdate\" FROM \"person\" WHERE \"person\".\"id\" = 142 LIMIT 21', 'time': '0.000'}]\n"
     ]
    },
    {
     "data": {
      "text/plain": [
       "#142 - Clint Eastwood"
      ]
     },
     "execution_count": 18,
     "metadata": {},
     "output_type": "execute_result"
    }
   ],
   "source": [
    "reset_queries()\n",
    "d = m.director # lazy attribute is filled here (query SQL)\n",
    "print(connection.queries)\n",
    "d"
   ]
  },
  {
   "cell_type": "code",
   "execution_count": 19,
   "id": "2944018f-153c-4b2d-8e0f-c97fabce046e",
   "metadata": {},
   "outputs": [
    {
     "name": "stdout",
     "output_type": "stream",
     "text": [
      "#142 - Clint Eastwood\n"
     ]
    }
   ],
   "source": [
    "print(d)"
   ]
  },
  {
   "cell_type": "code",
   "execution_count": 20,
   "id": "0446873e-9929-4309-a2fa-57c23014038a",
   "metadata": {},
   "outputs": [
    {
     "data": {
      "text/plain": [
       "[#634240 - Christopher Nolan]"
      ]
     },
     "execution_count": 20,
     "metadata": {},
     "output_type": "execute_result"
    }
   ],
   "source": [
    "nolansQuerySet = Person.objects.filter(name = \"Christopher Nolan\")\n",
    "nolans = list(nolansQuerySet)\n",
    "nolans"
   ]
  },
  {
   "cell_type": "code",
   "execution_count": 22,
   "id": "7564be3c-41b4-4a2e-9d62-bd4051659013",
   "metadata": {},
   "outputs": [
    {
     "data": {
      "text/plain": [
       "[{'sql': 'UPDATE \"movieapp_movie\" SET \"title\" = \\'Oppenheimer\\', \"year\" = 2023, \"duration\" = 180, \"pg\" = \\'R\\', \"synopsis\" = \\'The story of American scientist, J. Robert Oppenheimer, and his role in the development of the atomic bomb.\\', \"poster_uri\" = NULL, \"director_id\" = 634240 WHERE \"movieapp_movie\".\"id\" = 8079255',\n",
       "  'time': '0.031'}]"
      ]
     },
     "execution_count": 22,
     "metadata": {},
     "output_type": "execute_result"
    }
   ],
   "source": [
    "reset_queries()\n",
    "nolan = nolans[0]\n",
    "movieOppenheimer.director = nolan # set object relationship\n",
    "movieOppenheimer.save()\n",
    "connection.queries"
   ]
  },
  {
   "cell_type": "code",
   "execution_count": 24,
   "id": "53bd2c7e-8e65-414b-850e-1e5f0d845647",
   "metadata": {},
   "outputs": [
    {
     "data": {
      "text/plain": [
       "[{'sql': 'INSERT INTO \"person\" (\"name\", \"birthdate\") VALUES (\\'Greta Gerwig\\', \\'1983-08-04\\'::date) RETURNING \"person\".\"id\"',\n",
       "  'time': '0.031'},\n",
       " {'sql': 'INSERT INTO \"movieapp_movie\" (\"title\", \"year\", \"duration\", \"pg\", \"synopsis\", \"poster_uri\", \"director_id\") VALUES (\\'Barbie\\', 2023, NULL, NULL, NULL, NULL, 11903874) RETURNING \"movieapp_movie\".\"id\"',\n",
       "  'time': '0.047'}]"
      ]
     },
     "execution_count": 24,
     "metadata": {},
     "output_type": "execute_result"
    }
   ],
   "source": [
    "# create movie BArbie, 2023 by Greta Gerwig Born August 4, 1983\n",
    "reset_queries()\n",
    "greta = Person.objects.create(name=\"Greta Gerwig\", birthdate=date(1983,8,4))\n",
    "movieBarbie = Movie.objects.create(title=\"Barbie\", year=2023, director=greta)\n",
    "connection.queries"
   ]
  },
  {
   "cell_type": "markdown",
   "id": "db2d1db3-47fe-4cbe-9aa0-53c3baae48cb",
   "metadata": {},
   "source": [
    "## 3 - Queries"
   ]
  },
  {
   "cell_type": "markdown",
   "id": "76da80b2-2bdd-4556-8125-1dd7b43fd0fb",
   "metadata": {},
   "source": [
    "### 3.1. Filters (Where)"
   ]
  },
  {
   "cell_type": "code",
   "execution_count": 26,
   "id": "6bd61641-2858-4326-a36f-14507877bca7",
   "metadata": {},
   "outputs": [
    {
     "data": {
      "text/plain": [
       "<QuerySet [#25452 - The Man Who Knew Too Much (1934), #49470 - The Man Who Knew Too Much (1956)]>"
      ]
     },
     "execution_count": 26,
     "metadata": {},
     "output_type": "execute_result"
    }
   ],
   "source": [
    "# exact predicate (=)\n",
    "Movie.objects.filter(title='The Man Who Knew Too Much')"
   ]
  },
  {
   "cell_type": "code",
   "execution_count": 27,
   "id": "b71ffab8-5200-4353-894c-6326ea35619f",
   "metadata": {},
   "outputs": [
    {
     "data": {
      "text/plain": [
       "<QuerySet [#49470 - The Man Who Knew Too Much (1956)]>"
      ]
     },
     "execution_count": 27,
     "metadata": {},
     "output_type": "execute_result"
    }
   ],
   "source": [
    "# 2 predicates AND\n",
    "Movie.objects.filter(title='The Man Who Knew Too Much', year=1956)"
   ]
  },
  {
   "cell_type": "code",
   "execution_count": 30,
   "id": "ae6fee5b-c6ec-4178-8c9b-b54885fb1f15",
   "metadata": {},
   "outputs": [
    {
     "data": {
      "text/plain": [
       "<QuerySet [#25452 - The Man Who Knew Too Much (1934), #49470 - The Man Who Knew Too Much (1956)]>"
      ]
     },
     "execution_count": 30,
     "metadata": {},
     "output_type": "execute_result"
    }
   ],
   "source": [
    "# iexact = exact case insensitive\n",
    "Movie.objects.filter(title__iexact=\"the man who knew too much\")"
   ]
  },
  {
   "cell_type": "code",
   "execution_count": 31,
   "id": "53463dec-1ec2-4b57-b8e4-87aedbd58365",
   "metadata": {},
   "outputs": [
    {
     "data": {
      "text/plain": [
       "<QuerySet [#20142 - The Manxman (1929), #24293 - The Man from Monterey (1933), #25452 - The Man Who Knew Too Much (1934), #25455 - The Man from Utah (1934), #49470 - The Man Who Knew Too Much (1956), #56217 - The Man Who Shot Liberty Valance (1962), #71807 - The Man with the Golden Gun (1974), #73341 - The Man Who Would Be King (1975), #89543 - The Man with One Red Shoe (1985), #243133 - The Man Who Wasn't There (2001)]>"
      ]
     },
     "execution_count": 31,
     "metadata": {},
     "output_type": "execute_result"
    }
   ],
   "source": [
    "# (i)startswith, (i)endswith, (i)contains\n",
    "Movie.objects.filter(title__istartswith=\"the man\")"
   ]
  },
  {
   "cell_type": "code",
   "execution_count": 32,
   "id": "7c20db14-df0a-4c0d-8914-c49c1bdd0996",
   "metadata": {},
   "outputs": [
    {
     "data": {
      "text/plain": [
       "<QuerySet [#25830 - The Star Packer (1934), #49793 - Star in the Dust (1956), #76759 - Star Wars: Episode IV - A New Hope (1977), #80684 - Star Wars: Episode V - The Empire Strikes Back (1980), #86190 - Star Wars: Episode VI - Return of the Jedi (1983), #95405 - Starry is the Night (1988), #2488496 - Star Wars: Episode VII - The Force Awakens (2015), #2527338 - Star Wars: Episode IX - The Rise of Skywalker (2019)]>"
      ]
     },
     "execution_count": 32,
     "metadata": {},
     "output_type": "execute_result"
    }
   ],
   "source": [
    "Movie.objects.filter(title__icontains=\"star\")"
   ]
  },
  {
   "cell_type": "code",
   "execution_count": 35,
   "id": "4efd6f5c-9fa1-4df7-9dca-c25c6a75cf55",
   "metadata": {},
   "outputs": [
    {
     "data": {
      "text/plain": [
       "<QuerySet [#25830 - The Star Packer (1934), #49793 - Star in the Dust (1956), #76759 - Star Wars: Episode IV - A New Hope (1977), #80684 - Star Wars: Episode V - The Empire Strikes Back (1980), #86190 - Star Wars: Episode VI - Return of the Jedi (1983), #2488496 - Star Wars: Episode VII - The Force Awakens (2015), #2527338 - Star Wars: Episode IX - The Rise of Skywalker (2019)]>"
      ]
     },
     "execution_count": 35,
     "metadata": {},
     "output_type": "execute_result"
    }
   ],
   "source": [
    "# (i)regex: regular expression\n",
    "Movie.objects.filter(title__iregex=r\"(^| )star( |$)\")"
   ]
  },
  {
   "cell_type": "code",
   "execution_count": 36,
   "id": "20fb215e-6410-4da0-ab34-48d2ade83356",
   "metadata": {},
   "outputs": [
    {
     "data": {
      "text/plain": [
       "<QuerySet [#8079250 - Oppenheimer (2023), #8079251 - Oppenheimer (2023), #8079253 - Oppenheimer (2023), #8079255 - Oppenheimer (2023), #8079256 - Barbie (2023), #1025100 - Gemini Man (2019), #1206885 - Rambo: Last Blood (2019), #1302006 - The Irishman (2019), #1502397 - Bad Boys for Life (2020), #1634106 - Bloodshot (2020), #1979376 - Toy Story 4 (2019), #2527338 - Star Wars: Episode IX - The Rise of Skywalker (2019), #3224458 - A Beautiful Day in the Neighborhood (2019), #7286456 - Joker (2019), #3282076 - Domino (2019), #3513548 - Richard Jewell (2019), #4154796 - Avengers: Endgame (2019), #5113040 - The Secret Life of Pets 2 (2019), #6139732 - Aladdin (2019), #5814534 - Spies in Disguise (2019), '...(remaining elements truncated)...']>"
      ]
     },
     "execution_count": 36,
     "metadata": {},
     "output_type": "execute_result"
    }
   ],
   "source": [
    "# comparison operator: gt >, gte >=, lt <, lte <=\n",
    "Movie.objects.filter(year__gt=2018)"
   ]
  },
  {
   "cell_type": "code",
   "execution_count": 44,
   "id": "6b8ea4ea-f76b-4558-8c09-55a458c5d33b",
   "metadata": {},
   "outputs": [
    {
     "data": {
      "text/plain": [
       "[#80377 - Any Which Way You Can (1980),\n",
       " #80472 - Bronco Billy (1980),\n",
       " #80661 - Dressed to Kill (1980),\n",
       " #80850 - He Knows You're Alone (1980),\n",
       " #82880 - Il pap'occhio (1980),\n",
       " #76580 - Qian zuo guai (1980),\n",
       " #81398 - Raging Bull (1980),\n",
       " #80684 - Star Wars: Episode V - The Empire Strikes Back (1980),\n",
       " #80455 - The Blues Brothers (1980),\n",
       " #80907 - The Hunter (1980),\n",
       " #80031 - Tom Horn (1980),\n",
       " #82085 - Blow Out (1981),\n",
       " #82398 - For Your Eyes Only (1981),\n",
       " #82535 - Hua ji shi dai (1981),\n",
       " #82817 - Nighthawks (1981),\n",
       " #82869 - Outland (1981),\n",
       " #82910 - Piranha II: The Spawning (1981),\n",
       " #82971 - Raiders of the Lost Ark (1981),\n",
       " #83907 - The Evil Dead (1981),\n",
       " #81633 - Time Bandits (1981),\n",
       " #83284 - Victory (1981),\n",
       " #173893 - Hefty's (1983),\n",
       " #86006 - Never Say Never Again (1983),\n",
       " #86034 - Octopussy (1983),\n",
       " #86250 - Scarface (1983),\n",
       " #86190 - Star Wars: Episode VI - Return of the Jedi (1983),\n",
       " #86361 - Staying Alive (1983),\n",
       " #86383 - Sudden Impact (1983),\n",
       " #86491 - Twilight Zone: The Movie (1983),\n",
       " #86927 - Bachelor Party (1984),\n",
       " #86979 - Blood Simple (1984),\n",
       " #86984 - Body Double (1984),\n",
       " #86998 - Breakin' (1984),\n",
       " #87062 - City Heat (1984),\n",
       " #87078 - Conan the Destroyer (1984),\n",
       " #87363 - Gremlins (1984),\n",
       " #92264 - Heroes Shed No Tears (1984),\n",
       " #87469 - Indiana Jones and the Temple of Doom (1984),\n",
       " #87727 - Missing in Action (1984),\n",
       " #87739 - Monaco Forever (1984),\n",
       " #88001 - Rhinestone (1984),\n",
       " #88161 - Splash (1984),\n",
       " #84750 - Sword of the Valiant: The Legend of Sir Gawain and the Green Knight (1984),\n",
       " #88247 - The Terminator (1984),\n",
       " #88272 - Tightrope (1984),\n",
       " #88680 - After Hours (1985),\n",
       " #90264 - A View to a Kill (1985),\n",
       " #88944 - Commando (1985),\n",
       " #88967 - Crimewave (1985),\n",
       " #185446 - Gu lian hua (1985),\n",
       " #89469 - Legend (1985),\n",
       " #89767 - Pale Rider (1985),\n",
       " #89880 - Rambo: First Blood Part II (1985),\n",
       " #89893 - Red Sonja (1985),\n",
       " #89927 - Rocky IV (1985),\n",
       " #89482 - Run Tiger, Run (1985),\n",
       " #1813593 - Sam Raimi Early Shorts (1985),\n",
       " #90056 - Spies Like Us (1985),\n",
       " #88939 - The Color Purple (1985),\n",
       " #89543 - The Man with One Red Shoe (1985),\n",
       " #90093 - Thou Shalt Not Kill... Except (1985),\n",
       " #90274 - Volunteers (1985),\n",
       " #90329 - Witness (1985),\n",
       " #88421 - Xiao jiang (1985),\n",
       " #92263 - A Better Tomorrow (1986),\n",
       " #90605 - Aliens (1986),\n",
       " #7763324 - Amazing Stories (1986),\n",
       " #90859 - Cobra (1986),\n",
       " #91019 - Every Time We Say Goodbye (1986),\n",
       " #91187 - Heartbreak Ridge (1986),\n",
       " #91203 - Highlander (1986),\n",
       " #89695 - No Retreat, No Surrender (1986),\n",
       " #91653 - Nothing in Common (1986),\n",
       " #91828 - Raw Deal (1986),\n",
       " #90557 - 'Round Midnight (1986),\n",
       " #91993 - SpaceCamp (1986),\n",
       " #90863 - The Color of Money (1986),\n",
       " #91541 - The Money Pit (1986),\n",
       " #91557 - The Mosquito Coast (1986),\n",
       " #91605 - The Name of the Rose (1986),\n",
       " #92226 - Wise Guys (1986),\n",
       " #94357 - A Better Tomorrow II (1987),\n",
       " #92610 - Bad Taste (1987),\n",
       " #92925 - Dragnet (1987),\n",
       " #92965 - Empire of the Sun (1987),\n",
       " #92991 - Evil Dead II (1987),\n",
       " #89270 - Heng cai san qian wan (1987),\n",
       " #359715 - My Best Friend's Birthday (1987),\n",
       " #93692 - Over the Top (1987),\n",
       " #93773 - Predator (1987),\n",
       " #93822 - Raising Arizona (1987),\n",
       " #93898 - Russkies (1987),\n",
       " #94008 - Someone to Watch Over Me (1987),\n",
       " #93428 - The Living Daylights (1987),\n",
       " #93894 - The Running Man (1987),\n",
       " #94226 - The Untouchables (1987),\n",
       " #94737 - Big (1988),\n",
       " #94747 - Bird (1988),\n",
       " #94750 - Black Eagle (1988),\n",
       " #92675 - Bloodsport (1988),\n",
       " #95174 - Frantic (1988),\n",
       " #88269 - I Love Maria (1988),\n",
       " #95583 - Maniac Cop (1988),\n",
       " #95613 - Memories of Me (1988),\n",
       " #95927 - Punchline (1988),\n",
       " #95956 - Rambo III (1988),\n",
       " #95963 - Red Heat (1988),\n",
       " #95405 - Starry is the Night (1988),\n",
       " #94963 - The Dead Pool (1988),\n",
       " #95497 - The Last Temptation of Christ (1988),\n",
       " #95897 - The Presidio (1988),\n",
       " #96320 - Twins (1988),\n",
       " #96463 - Working Girl (1988),\n",
       " #96794 - Always (1989),\n",
       " #96933 - Black Rain (1989),\n",
       " #97027 - Casualties of War (1989),\n",
       " #97138 - Cyborg (1989),\n",
       " #97328 - Family Business (1989),\n",
       " #97576 - Indiana Jones and the Last Crusade (1989),\n",
       " #95379 - Intruder (1989),\n",
       " #94351 - Just Heroes (1989),\n",
       " #97659 - Kickboxer (1989),\n",
       " #97742 - Licence to Kill (1989),\n",
       " #97770 - Lock Up (1989),\n",
       " #97858 - Meet the Feebles (1989),\n",
       " #97965 - New York Stories (1989),\n",
       " #98067 - Parenthood (1989),\n",
       " #98097 - Pink Cadillac (1989),\n",
       " #98439 - Tango & Cash (1989),\n",
       " #96754 - The Abyss (1989),\n",
       " #96734 - The 'Burbs (1989),\n",
       " #101670 - The House on Tombstone Hill (1989),\n",
       " #97202 - The Killer (1989),\n",
       " #98536 - Turner & Hooch (1989),\n",
       " #1959602 - Vegetables (1989)]"
      ]
     },
     "execution_count": 44,
     "metadata": {},
     "output_type": "execute_result"
    }
   ],
   "source": [
    "# range: between\n",
    "movies = list(Movie.objects\n",
    "              .exclude(year=1982)\n",
    "              .filter(year__range=(1980,1989))\n",
    "              .order_by(\"year\", \"title\")\n",
    "             )\n",
    "movies"
   ]
  },
  {
   "cell_type": "code",
   "execution_count": 45,
   "id": "afede5aa-5dfc-4a37-a074-5b9865bf229f",
   "metadata": {},
   "outputs": [
    {
     "data": {
      "text/plain": [
       "<QuerySet [#8079250 - Oppenheimer (2023), #13444 - Number 13 (1922), #8079256 - Barbie (2023), #77667 - Ha luo, ye gui ren (1978), #173893 - Hefty's (1983), #185446 - Gu lian hua (1985), #4824394 - Terminator Genisys: The YouTube Chronicles (2015), #6344712 - The Square Root (1969)]>"
      ]
     },
     "execution_count": 45,
     "metadata": {},
     "output_type": "execute_result"
    }
   ],
   "source": [
    "Movie.objects.filter(duration__isnull=True)"
   ]
  },
  {
   "cell_type": "code",
   "execution_count": 48,
   "id": "a7e4317b-0bb7-44da-a744-8396acdef1d4",
   "metadata": {},
   "outputs": [
    {
     "data": {
      "text/plain": [
       "<QuerySet [#125 - Sean Connery, #142 - Clint Eastwood, #432 - Gene Hackman, #537 - Steve McQueen, #728 - Mario Adorf, #1262 - Ben Gazzara, #1321 - Richard Harris, #1335 - Tippi Hedren, #1687 - Gena Rowlands, #1703 - Maximilian Schell, #1792 - Rod Taylor, #1822 - Robert Wagner, #3679 - Kate Reid, #4877 - Roy Edward Disney, #5162 - Robert Loggia, #5196 - Paul Mazursky, #43484 - Jack Axelrod, #53364 - Chris Barber, #58972 - Dominic Barto, #60789 - Charles Bateman, '...(remaining elements truncated)...']>"
      ]
     },
     "execution_count": 48,
     "metadata": {},
     "output_type": "execute_result"
    }
   ],
   "source": [
    "date1 = date(1930,1,1)\n",
    "date2 = date(1930,12,31)\n",
    "Person.objects.filter(birthdate__range=(date1,date2))"
   ]
  },
  {
   "cell_type": "code",
   "execution_count": 51,
   "id": "5b904a4f-cc55-4f16-a78c-0e005bc666a9",
   "metadata": {},
   "outputs": [
    {
     "data": {
      "text/plain": [
       "<QuerySet [#125 - Sean Connery, #142 - Clint Eastwood, #432 - Gene Hackman, #537 - Steve McQueen, #728 - Mario Adorf, #1262 - Ben Gazzara, #1321 - Richard Harris, #1335 - Tippi Hedren, #1687 - Gena Rowlands, #1703 - Maximilian Schell, #1792 - Rod Taylor, #1822 - Robert Wagner, #3679 - Kate Reid, #4877 - Roy Edward Disney, #5162 - Robert Loggia, #5196 - Paul Mazursky, #43484 - Jack Axelrod, #53364 - Chris Barber, #58972 - Dominic Barto, #60789 - Charles Bateman, '...(remaining elements truncated)...']>"
      ]
     },
     "execution_count": 51,
     "metadata": {},
     "output_type": "execute_result"
    }
   ],
   "source": [
    "reset_queries()\n",
    "Person.objects.filter(birthdate__year=1930)"
   ]
  },
  {
   "cell_type": "code",
   "execution_count": 52,
   "id": "5c7ff8b9-fbc5-4108-98b1-143fadfd633f",
   "metadata": {},
   "outputs": [
    {
     "data": {
      "text/plain": [
       "[{'sql': 'SELECT \"person\".\"id\", \"person\".\"name\", \"person\".\"birthdate\" FROM \"person\" WHERE \"person\".\"birthdate\" BETWEEN \\'1930-01-01\\'::date AND \\'1930-12-31\\'::date LIMIT 21',\n",
       "  'time': '0.000'}]"
      ]
     },
     "execution_count": 52,
     "metadata": {},
     "output_type": "execute_result"
    }
   ],
   "source": [
    "connection.queries"
   ]
  },
  {
   "cell_type": "code",
   "execution_count": 61,
   "id": "70d47b9a-e8da-4574-a41b-7a7897b51803",
   "metadata": {},
   "outputs": [
    {
     "data": {
      "text/plain": [
       "<QuerySet [#125 - Sean Connery, #142 - Clint Eastwood, #432 - Gene Hackman, #537 - Steve McQueen, #728 - Mario Adorf, #1262 - Ben Gazzara, #1321 - Richard Harris, #1335 - Tippi Hedren, #1687 - Gena Rowlands, #1703 - Maximilian Schell, #1792 - Rod Taylor, #1822 - Robert Wagner, #3679 - Kate Reid, #4877 - Roy Edward Disney, #5162 - Robert Loggia, #5196 - Paul Mazursky, #43484 - Jack Axelrod, #53364 - Chris Barber, #58972 - Dominic Barto, #60789 - Charles Bateman, '...(remaining elements truncated)...']>"
      ]
     },
     "execution_count": 61,
     "metadata": {},
     "output_type": "execute_result"
    }
   ],
   "source": [
    "reset_queries()\n",
    "Person.objects.annotate(year=Extract('birthdate','year')).filter(year=1930)"
   ]
  },
  {
   "cell_type": "code",
   "execution_count": 62,
   "id": "efd11df0-fffc-4c5c-b973-c2e0c296b2ed",
   "metadata": {},
   "outputs": [
    {
     "data": {
      "text/plain": [
       "[{'sql': 'SELECT \"person\".\"id\", \"person\".\"name\", \"person\".\"birthdate\", EXTRACT(YEAR FROM \"person\".\"birthdate\") AS \"year\" FROM \"person\" WHERE EXTRACT(YEAR FROM \"person\".\"birthdate\") = 1930 LIMIT 21',\n",
       "  'time': '0.031'}]"
      ]
     },
     "execution_count": 62,
     "metadata": {},
     "output_type": "execute_result"
    }
   ],
   "source": [
    "connection.queries"
   ]
  },
  {
   "cell_type": "markdown",
   "id": "1209eaee-917a-4675-ab17-2e7d75c800a3",
   "metadata": {},
   "source": [
    "### 3.2 - Projections"
   ]
  },
  {
   "cell_type": "code",
   "execution_count": 63,
   "id": "c658fce9-daac-4b54-9fcf-8c01ed840a6d",
   "metadata": {},
   "outputs": [
    {
     "data": {
      "text/plain": [
       "<QuerySet [{'year': 1915}, {'year': 1916}, {'year': 1917}, {'year': 1917}, {'year': 1917}, {'year': 1917}, {'year': 1918}, {'year': 1918}, {'year': 1925}, {'year': 1928}, {'year': 2023}, {'year': 1918}, {'year': 1918}, {'year': 1918}, {'year': 1918}, {'year': 1918}, {'year': 1918}, {'year': 1918}, {'year': 1918}, {'year': 1929}, '...(remaining elements truncated)...']>"
      ]
     },
     "execution_count": 63,
     "metadata": {},
     "output_type": "execute_result"
    }
   ],
   "source": [
    "Movie.objects.values('year')"
   ]
  },
  {
   "cell_type": "code",
   "execution_count": 65,
   "id": "4af48e39-83e7-4e7e-8974-186e48c334d6",
   "metadata": {},
   "outputs": [
    {
     "data": {
      "text/plain": [
       "<QuerySet [{'year': 1934}, {'year': 1956}, {'year': 1977}, {'year': 1980}, {'year': 1983}, {'year': 1988}, {'year': 2015}, {'year': 2019}]>"
      ]
     },
     "execution_count": 65,
     "metadata": {},
     "output_type": "execute_result"
    }
   ],
   "source": [
    "Movie.objects.filter(title__icontains='star').values('year')"
   ]
  },
  {
   "cell_type": "code",
   "execution_count": 67,
   "id": "bf4d3bfc-e5c3-47b3-bc2d-0f07a39028af",
   "metadata": {},
   "outputs": [
    {
     "data": {
      "text/plain": [
       "<QuerySet [{'title': 'The Star Packer', 'year': 1934}, {'title': 'Star in the Dust', 'year': 1956}, {'title': 'Star Wars: Episode IV - A New Hope', 'year': 1977}, {'title': 'Star Wars: Episode V - The Empire Strikes Back', 'year': 1980}, {'title': 'Star Wars: Episode VI - Return of the Jedi', 'year': 1983}, {'title': 'Starry is the Night', 'year': 1988}, {'title': 'Star Wars: Episode VII - The Force Awakens', 'year': 2015}, {'title': 'Star Wars: Episode IX - The Rise of Skywalker', 'year': 2019}]>"
      ]
     },
     "execution_count": 67,
     "metadata": {},
     "output_type": "execute_result"
    }
   ],
   "source": [
    "Movie.objects.filter(title__icontains='star').values('title','year')"
   ]
  },
  {
   "cell_type": "code",
   "execution_count": 69,
   "id": "4b40a78e-25d5-40c5-b5a4-83cdbb819a21",
   "metadata": {},
   "outputs": [
    {
     "data": {
      "text/plain": [
       "107"
      ]
     },
     "execution_count": 69,
     "metadata": {},
     "output_type": "execute_result"
    }
   ],
   "source": [
    "# distinct\n",
    "years = list(Movie.objects.values('year').distinct())\n",
    "len(years)"
   ]
  },
  {
   "cell_type": "code",
   "execution_count": 77,
   "id": "eb562014-a2c9-4e50-8de8-f68c2dfd6bd6",
   "metadata": {},
   "outputs": [
    {
     "data": {
      "text/plain": [
       "<QuerySet [{'name': 'Gary the Dog', 'year': 2012}, {'name': 'Temirlan Blaev', 'year': 2007}, {'name': 'Erin Kellyman', 'year': 1998}, {'name': 'Ross Beadman', 'year': 1998}, {'name': 'Alex Knoll', 'year': 1994}, {'name': 'Chelsea Mather', 'year': 1994}, {'name': 'Keira Wingate', 'year': 1994}, {'name': 'Jett Lucas', 'year': 1993}, {'name': \"Helena Collins O'Connor\", 'year': 1992}, {'name': 'Chris Adams', 'year': 1990}, {'name': 'Jennifer Lawrence', 'year': 1990}, {'name': 'Keisha Castle-Hughes', 'year': 1990}, {'name': 'Sam Wilkinson', 'year': 1990}, {'name': 'Dalton Abbott', 'year': 1989}, {'name': 'Jake Lloyd', 'year': 1989}, {'name': 'James Henri-Thomas', 'year': 1989}, {'name': 'Samantha Colley', 'year': 1989}, {'name': 'Seth Adkins', 'year': 1989}, {'name': 'Bobby Edner', 'year': 1988}, {'name': 'Chelsea Hamill', 'year': 1988}, '...(remaining elements truncated)...']>"
      ]
     },
     "execution_count": 77,
     "metadata": {},
     "output_type": "execute_result"
    }
   ],
   "source": [
    "reset_queries()\n",
    "q = Person.objects \\\n",
    "        .filter(birthdate__isnull=False) \\\n",
    "        .annotate(year=Extract('birthdate', 'year')) \\\n",
    "        .values('name','year') \\\n",
    "        .order_by('-year','name')\n",
    "q"
   ]
  },
  {
   "cell_type": "code",
   "execution_count": 78,
   "id": "8b6391d7-a829-4edb-9033-7e8dcfb494f9",
   "metadata": {},
   "outputs": [
    {
     "data": {
      "text/plain": [
       "[{'sql': 'SELECT \"person\".\"name\", EXTRACT(YEAR FROM \"person\".\"birthdate\") AS \"year\" FROM \"person\" WHERE \"person\".\"birthdate\" IS NOT NULL ORDER BY 2 DESC, \"person\".\"name\" ASC LIMIT 21',\n",
       "  'time': '0.016'}]"
      ]
     },
     "execution_count": 78,
     "metadata": {},
     "output_type": "execute_result"
    }
   ],
   "source": [
    "connection.queries"
   ]
  },
  {
   "cell_type": "code",
   "execution_count": 83,
   "id": "b20f3556-0729-4a03-8ab3-9615e93a9d77",
   "metadata": {},
   "outputs": [
    {
     "data": {
      "text/plain": [
       "<QuerySet [{'title': 'Oppenheimer', 'duration2': 0}, {'title': 'Oppenheimer', 'duration2': 180}, {'title': 'Oppenheimer', 'duration2': 180}, {'title': 'Oppenheimer', 'duration2': 180}, {'title': 'Barbie', 'duration2': 0}]>"
      ]
     },
     "execution_count": 83,
     "metadata": {},
     "output_type": "execute_result"
    }
   ],
   "source": [
    "# .filter(duration__isnull=True) \\\n",
    "q = Movie.objects \\\n",
    "    .filter(year=2023) \\\n",
    "    .annotate(duration2=Coalesce('duration', 0)) \\\n",
    "    .values('title', 'duration2')\n",
    "q"
   ]
  },
  {
   "cell_type": "code",
   "execution_count": 90,
   "id": "79f9b31a-3c05-4358-ae3b-ab8426ed1008",
   "metadata": {},
   "outputs": [
    {
     "data": {
      "text/plain": [
       "<QuerySet [{'long_title': 'Sword of the Valiant: The Legend of Sir Gawain and the Green Knighthttps://m.media-amazon.com/images/M/MV5BZDc1MDY2YmItYzViMS00YzJiLWJhNDQtNjU5OGI1MTc3NmVmXkEyXkFqcGdeQXVyNjMwMjk0MTQ@._V1_SX101_CR0,0,101,150_.jpg'}, {'long_title': 'Bachelor Partyhttps://m.media-amazon.com/images/M/MV5BMDU1MzM1NmQtMzFkMC00NTFmLWI3MTYtNzE2MzAyMjA2MmIwXkEyXkFqcGdeQXVyMjUzOTY1NTc@._V1_SX101_CR0,0,101,150_.jpg'}, {'long_title': 'Blood Simplehttps://m.media-amazon.com/images/M/MV5BZmI5YzM1MjItMzFmNy00NGFkLThlMDUtZjZmYTZkM2QxMjU3XkEyXkFqcGdeQXVyNzkwMjQ5NzM@._V1_SX101_CR0,0,101,150_.jpg'}, {'long_title': 'Body Doublehttps://m.media-amazon.com/images/M/MV5BYzA4MDViNmQtZTk5Yi00ODk2LTliZWEtMTAzYjAzYzQ4YjZlXkEyXkFqcGdeQXVyNDkzNTM2ODg@._V1_SX101_CR0,0,101,150_.jpg'}, {'long_title': \"Breakin'https://m.media-amazon.com/images/M/MV5BMDQxNjdlMjctZjRiYi00ODdjLTg4ZTctMTdiNDdlNjk2NjIzXkEyXkFqcGdeQXVyMTQxNzMzNDI@._V1_SX101_CR0,0,101,150_.jpg\"}, {'long_title': 'City Heathttps://m.media-amazon.com/images/M/MV5BMWM0Y2JhMGItMjc1NC00MjAwLWFmY2QtY2YzZjA3N2ZhYjlmXkEyXkFqcGdeQXVyNjc1NTYyMjg@._V1_SX101_CR0,0,101,150_.jpg'}, {'long_title': 'Conan the Destroyerhttps://m.media-amazon.com/images/M/MV5BNTMzMzE3ZTQtODE4Yi00ODhiLWI3NWItOGVhNjllNjY3MzA2XkEyXkFqcGdeQXVyMjUzOTY1NTc@._V1_SX101_CR0,0,101,150_.jpg'}, {'long_title': 'Gremlinshttps://m.media-amazon.com/images/M/MV5BZDVjN2FkYTQtNTBlOC00MjM5LTgzMWEtZWRlNGUyYmNiOTFiXkEyXkFqcGdeQXVyMTQxNzMzNDI@._V1_SX101_CR0,0,101,150_.jpg'}, {'long_title': 'Indiana Jones and the Temple of Doomhttps://m.media-amazon.com/images/M/MV5BYzgzMTIzNzctNmNiZC00ZDYyLWJjNzktMmQ2MDM2ZDkwZGVhXkEyXkFqcGdeQXVyMjM4MzQ4OTQ@._V1_SX101_CR0,0,101,150_.jpg'}, {'long_title': 'Missing in Actionhttps://m.media-amazon.com/images/M/MV5BNDczNDljZTUtNmZmZC00YzFkLWExYzEtYzQxNmNkNmFjMDQyXkEyXkFqcGdeQXVyMjUzOTY1NTc@._V1_SX101_CR0,0,101,150_.jpg'}, {'long_title': 'Monaco Foreverhttps://m.media-amazon.com/images/M/MV5BMjc2Nzk2OTctODJkNS00ODc4LWJmNTYtYmQzYjk3NDlhMDFhXkEyXkFqcGdeQXVyNDE4OTY5NzI@._V1_SX101_CR0,0,101,150_.jpg'}, {'long_title': 'Rhinestonehttps://m.media-amazon.com/images/M/MV5BMzM5MWMzYWEtY2E2YS00YjZiLTllODktYWZlOTY4OWVkOWI4L2ltYWdlL2ltYWdlXkEyXkFqcGdeQXVyNjE5MjUyOTM@._V1_SX101_CR0,0,101,150_.jpg'}, {'long_title': 'Splashhttps://m.media-amazon.com/images/M/MV5BZDRmZTQ0MDQtNWRmYS00NDhhLTgzNzUtZGIyYzkwZDMyNTc0L2ltYWdlXkEyXkFqcGdeQXVyMTQxNzMzNDI@._V1_SX101_CR0,0,101,150_.jpg'}, {'long_title': 'The Terminatorhttps://m.media-amazon.com/images/M/MV5BYTViNzMxZjEtZGEwNy00MDNiLWIzNGQtZDY2MjQ1OWViZjFmXkEyXkFqcGdeQXVyNzkwMjQ5NzM@._V1_SX101_CR0,0,101,150_.jpg'}, {'long_title': 'Tightropehttps://m.media-amazon.com/images/M/MV5BYmI1YjNjNmEtZjYyOC00MjdhLTllNjAtOTdjYjlhOTkwMWIzXkEyXkFqcGdeQXVyMjUzOTY1NTc@._V1_SX101_CR0,0,101,150_.jpg'}, {'long_title': 'Heroes Shed No Tearshttps://m.media-amazon.com/images/M/MV5BZmFmNTJlZjItODJiZS00OTg3LTlmM2MtMjNlZDNkZTdiMjQzXkEyXkFqcGdeQXVyNDkyMzMyODM@._V1_SX101_CR0,0,101,150_.jpg'}]>"
      ]
     },
     "execution_count": 90,
     "metadata": {},
     "output_type": "execute_result"
    }
   ],
   "source": [
    "Movie.objects \\\n",
    "    .filter(year=1984) \\\n",
    "    .annotate(long_title=Concat('title', 'posterUri')) \\\n",
    "    .values('long_title')"
   ]
  },
  {
   "cell_type": "code",
   "execution_count": 92,
   "id": "1a85d316-b9f0-4d62-be11-462e30a20465",
   "metadata": {},
   "outputs": [
    {
     "data": {
      "text/plain": [
       "<QuerySet [{'long_title': 'Sword of the Valiant: The Legend of Sir Gawain and the Green Knight | poster = '}, {'long_title': 'Bachelor Party | poster = '}, {'long_title': 'Blood Simple | poster = '}, {'long_title': 'Body Double | poster = '}, {'long_title': \"Breakin' | poster = \"}, {'long_title': 'City Heat | poster = '}, {'long_title': 'Conan the Destroyer | poster = '}, {'long_title': 'Gremlins | poster = '}, {'long_title': 'Indiana Jones and the Temple of Doom | poster = '}, {'long_title': 'Missing in Action | poster = '}, {'long_title': 'Monaco Forever | poster = '}, {'long_title': 'Rhinestone | poster = '}, {'long_title': 'Splash | poster = '}, {'long_title': 'The Terminator | poster = '}, {'long_title': 'Tightrope | poster = '}, {'long_title': 'Heroes Shed No Tears | poster = '}]>"
      ]
     },
     "execution_count": 92,
     "metadata": {},
     "output_type": "execute_result"
    }
   ],
   "source": [
    "Movie.objects \\\n",
    "    .filter(year=1984) \\\n",
    "    .annotate(long_title=Concat('title', V(' | poster = '))) \\\n",
    "    .values('long_title')"
   ]
  }
 ],
 "metadata": {
  "kernelspec": {
   "display_name": "Django Shell-Plus",
   "language": "python",
   "name": "django_extensions"
  },
  "language_info": {
   "codemirror_mode": {
    "name": "ipython",
    "version": 3
   },
   "file_extension": ".py",
   "mimetype": "text/x-python",
   "name": "python",
   "nbconvert_exporter": "python",
   "pygments_lexer": "ipython3",
   "version": "3.10.9"
  }
 },
 "nbformat": 4,
 "nbformat_minor": 5
}
